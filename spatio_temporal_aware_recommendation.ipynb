{
 "cells": [
  {
   "cell_type": "code",
   "execution_count": 1,
   "metadata": {},
   "outputs": [],
   "source": [
    "import os\n",
    "import json\n",
    "import numpy as np\n",
    "import pandas as pd\n",
    "from tqdm import tqdm\n",
    "from collections import defaultdict"
   ]
  },
  {
   "cell_type": "markdown",
   "metadata": {},
   "source": [
    "## 报告数据标准化"
   ]
  },
  {
   "cell_type": "code",
   "execution_count": 2,
   "metadata": {},
   "outputs": [
    {
     "name": "stdout",
     "output_type": "stream",
     "text": [
      "481 {'date': '2021-10-16 星期六', 'hall': '黄龙水晶宫', 'host': '陆锋', 'topic': '09:10-10:40 | 特邀报告', 'time': '09:10-09:40', 'title': '全球位置服务网关键技术与研究进展', 'reporters': '龚健雅 院士', 'institutions': '武汉大学'} {'分会场十', '黄龙水晶宫', '分会场十二', '分会场十一', '分会场三', '分会场七', '分会场四', '分会场十四', '分会场六', '分会场九', '分会场十三', '分会场五', '分会场八', '分会场二', '分会场一'}\n",
      "{'分会场一': 0, '分会场七': 1, '分会场三': 2, '分会场九': 3, '分会场二': 4, '分会场五': 5, '分会场八': 6, '分会场六': 7, '分会场十': 8, '分会场十一': 9, '分会场十三': 10, '分会场十二': 11, '分会场十四': 12, '分会场四': 13, '黄龙水晶宫': 14}\n"
     ]
    }
   ],
   "source": [
    "data = json.load(open('data/conference/conference.json', encoding='utf-8', mode='r'))\n",
    "reports = []\n",
    "halls = set()\n",
    "for report in data:\n",
    "    title = report['title']\n",
    "    institutions = report['institutions']\n",
    "    if title and institutions:\n",
    "        reports.append(report)\n",
    "        halls.add(report['hall'])\n",
    "\n",
    "hall_2_id = {h:i for i, h in enumerate(sorted(halls))}\n",
    "id_2_hall = {i:h for h, i in hall_2_id.items()}\n",
    "print(len(reports), reports[0], halls)\n",
    "print(hall_2_id)"
   ]
  },
  {
   "cell_type": "markdown",
   "metadata": {},
   "source": [
    "### 报告时间与会场标准化\n",
    "需要提一下，有重复报告，这里我们采用去重的方法解决"
   ]
  },
  {
   "cell_type": "code",
   "execution_count": 3,
   "metadata": {},
   "outputs": [
    {
     "name": "stdout",
     "output_type": "stream",
     "text": [
      "康巴藏区藏传佛教寺院的空间布局特征及其影响因素\n",
      "基于GPS轨迹的西藏骑行游客时空行为分析\n",
      "基于轨迹大数据的游客行为研究：总结、局限与展望\n",
      "{'date': '2021-10-16', 'hall': '黄龙水晶宫', 'host': '陆锋', 'topic': '特邀报告', 'time': '09:10-09:40', 'title': '全球位置服务网关键技术与研究进展', 'reporters': '龚健雅 院士', 'institutions': '武汉大学', 'start_time': 119400, 'end_time': 121200, 'hall_id': 14}\n",
      "478 481\n"
     ]
    }
   ],
   "source": [
    "from datetime import datetime\n",
    "time_format = '%Y-%m-%d %H:%M'\n",
    "base_time = datetime(2021, 10, 15)\n",
    "new_data = []\n",
    "start_time_set = set()\n",
    "title_set = set()\n",
    "for report in reports:\n",
    "    title = report['title']\n",
    "    if title in title_set: \n",
    "        print(title)\n",
    "        continue\n",
    "    title_set.add(title)\n",
    "    date = report['date']\n",
    "    time = report['time']\n",
    "    hall = report['hall']\n",
    "    topic = report['topic']\n",
    "    topic = topic.split('|')[-1].split('：')[-1].strip()\n",
    "    date = date.split(' ')[0]\n",
    "    start, end = time.split('-')\n",
    "    start_time = date + ' ' + start # datetime.strptime(date + ' ' + start, time_format)\n",
    "    end_time = date + ' ' + end\n",
    "    s_time = datetime.strptime(start_time, time_format) - base_time\n",
    "    e_time = datetime.strptime(end_time, time_format) -  base_time\n",
    "    hall_id = hall_2_id[hall]\n",
    "    report['date'] = date\n",
    "    report['start_time'] = int(s_time.total_seconds())\n",
    "    report['end_time'] = int(e_time.total_seconds())\n",
    "    report['hall_id'] = hall_id\n",
    "    report['topic'] = topic\n",
    "    start_time_set.add(start_time)\n",
    "    new_data.append(report)\n",
    "json.dump(new_data, open('data/conference/standard_conference_data.json', 'w', encoding='utf-8'), ensure_ascii=False)\n",
    "print(new_data[0])\n",
    "print(len(title_set), len(reports))"
   ]
  },
  {
   "cell_type": "markdown",
   "metadata": {},
   "source": [
    "#### 按时间段分组"
   ]
  },
  {
   "cell_type": "code",
   "execution_count": 4,
   "metadata": {},
   "outputs": [
    {
     "name": "stdout",
     "output_type": "stream",
     "text": [
      "47\n"
     ]
    }
   ],
   "source": [
    "min_delta = 600\n",
    "time_spans = []\n",
    "sorted_data = sorted(new_data, key=lambda x: x['start_time']) # 按开始时间排序\n",
    "t = sorted_data[0]['start_time']\n",
    "group = 0\n",
    "group_dict = defaultdict(lambda: list())\n",
    "# group_dict[group] = []\n",
    "topic_2_reports = defaultdict(lambda: list())\n",
    "for i, report in enumerate(sorted_data):\n",
    "    s_time = int(report['start_time'])\n",
    "    e_time = int(report['end_time'])\n",
    "    topic = report['topic']\n",
    "    delta = s_time - t\n",
    "\n",
    "    if delta > min_delta:\n",
    "        group += 1\n",
    "        t = s_time\n",
    "    group_dict[group].append(i)   \n",
    "    report['time_group'] = group\n",
    "    report['id'] = i\n",
    "    topic_2_reports[topic].append((i, report['title']))\n",
    "print(group)\n",
    "json.dump(sorted_data, open(f'data/conference/grouped_conference_data_{min_delta}.json', 'w', encoding='utf-8'), ensure_ascii=False)\n",
    "    "
   ]
  },
  {
   "cell_type": "markdown",
   "metadata": {},
   "source": [
    "最长组"
   ]
  },
  {
   "cell_type": "code",
   "execution_count": 5,
   "metadata": {},
   "outputs": [
    {
     "name": "stdout",
     "output_type": "stream",
     "text": [
      "23\n"
     ]
    }
   ],
   "source": [
    "group_max_len = max([len(g) for k, g in group_dict.items()])\n",
    "print(group_max_len)"
   ]
  },
  {
   "cell_type": "markdown",
   "metadata": {},
   "source": [
    "### 生成测试数据"
   ]
  },
  {
   "cell_type": "code",
   "execution_count": 6,
   "metadata": {},
   "outputs": [],
   "source": [
    "testing_keywords = ['时空大数据', '人工智能', '粤港澳大湾区', '空间可达性', '光学遥感',  \n",
    "                    '轨迹数据挖掘', '时空模拟与预测', '地理时空建模', '遥感变化检测与地图更新', '地理信息共享与互操作'] # 五个抽取的关键词，五个专题名\n",
    "with open('data/text_match/predict.jl', 'w', encoding='utf-8') as writer:\n",
    "    for keyword in testing_keywords:\n",
    "        for report in sorted_data:\n",
    "            writer.write(json.dumps({'title': report['title'], 'keywords': [keyword]}, ensure_ascii=False))\n",
    "            writer.write('\\n')"
   ]
  },
  {
   "cell_type": "markdown",
   "metadata": {},
   "source": [
    "### 预测数据读取"
   ]
  },
  {
   "cell_type": "code",
   "execution_count": 39,
   "metadata": {},
   "outputs": [],
   "source": [
    "prob_matrix = np.zeros((len(sorted_data), len(testing_keywords)), dtype=float)\n",
    "with open('outputs/text_match/predictions/bert_bert_wwm_ext_2_prediction_text_matching.jl', 'r', encoding='utf-8') as f:\n",
    "    for i, line in enumerate(f):\n",
    "        d_json = json.loads(line.strip())\n",
    "        prob = float(d_json['prob'])\n",
    "        col = i // len(sorted_data)\n",
    "        row = i - col * len(sorted_data)\n",
    "        prob_matrix[row, col] = prob\n",
    "    assert i == len(sorted_data) * len(testing_keywords) - 1"
   ]
  },
  {
   "cell_type": "markdown",
   "metadata": {},
   "source": [
    "#### 查看与关键词最匹配的标题"
   ]
  },
  {
   "cell_type": "code",
   "execution_count": 49,
   "metadata": {},
   "outputs": [
    {
     "name": "stdout",
     "output_type": "stream",
     "text": [
      "地理信息共享与互操作 :\n",
      "地理信息共享新模式：从分析就绪、AI就绪到决策就绪 12.150110244750977\n",
      "地理分析模型的共享与重用方法研究 4.1197638511657715\n",
      "支持地理信息服务链可视化构建与执行的BPMN扩展框架模型设计 3.643040657043457\n",
      "地理空间模型数据自动匹配研究：地理空间数据—模型共享的新范式（线上） 3.2376365661621094\n",
      "智慧城市背景下的地理信息知识组织与重用 3.184375762939453\n",
      "NSFC信息地理学的机遇与挑战 3.0859227180480957\n",
      "一种顾及QoS的地理信息服务关系网络模型 2.878934621810913\n",
      "一种多元地理信息处理服务拓展的框架构建 2.776102304458618\n",
      "不同可持续发展目标情景下地理智能建模 2.673800468444824\n",
      "地理大数据挖掘的方法体系及主要进展 2.5489742755889893\n",
      "地图语言的延伸与多模态地理信息融合表达 2.5290110111236572\n",
      "多源空间信息同化与共享服务关键技术研究 2.485527753829956\n",
      "一种互信息领域自适应网络用于高分辨率语义分割 2.378546953201294\n",
      "从地理空间到神经空间：类脑导航研究进展 2.3710427284240723\n",
      "地理时空认知与医学内镜手术 2.3696205615997314\n",
      "地理认知与GIS创新 2.3609416484832764\n",
      "地理大数据支持下的人群动态多尺度制图方法研究 2.2649688720703125\n",
      "WebGL技术在虚拟地理环境构建中的应用研究 2.1219546794891357\n",
      "利用地理大数据刻画空间交互模式 1.9393177032470703\n",
      "自然与人为过程耦合的地理模拟平台搭建及应用 1.7854048013687134\n",
      "Urban Expansion and Drying Climate in Urban Agglomerations of China 1.7411761283874512\n",
      "明清江南市镇体系演化的若干地理特征 1.7225759029388428\n",
      "Beyond absolute space: An exploration of relative and relational space in Shanghai using taxi trajectory data 1.7108941078186035\n",
      "基于大数据的旅游情感地理探索 1.7038577795028687\n",
      "Potential and limitations of interpretable machine learning algorithms to predict rare and complex events in space and time 1.6871331930160522\n",
      "Seasonal Forecast of Non-monsoonal Winter Precipitation over the Eurasian Continent using Machine Learning Models 1.6744064092636108\n",
      "虚拟自然地理实验探索-以洪水灾害模拟为例 1.6706068515777588\n",
      "Efficient Soil Moisture mapping based on Apache Spark in IoT environment 1.663559913635254\n",
      "A practical atmospheric correction algorithm for inland and nearshore coastal waters 1.6604089736938477\n",
      "Climate change or human activities dominate farmland loss in divergent ecogeographical regions on the Tibetan Plateau（线上） 1.6454576253890991\n",
      "gold reports:\n",
      "介绍专题设置和特邀报告人\n",
      "知识图谱及其生产平台（线上）\n",
      "对地观测科学数据治理与前沿探索（线上）\n",
      "地理空间模型数据自动匹配研究：地理空间数据—模型共享的新范式（线上）\n",
      "地理分析模型的共享与重用方法研究\n",
      "大数据时空化的基本问题与挑战\n",
      "深时数字地球科学数据共享策略\n",
      "地理信息共享新模式：从分析就绪、AI就绪到决策就绪\n",
      "基于最小描述长度准则与随机合并策略的地图检索意图识别\n"
     ]
    }
   ],
   "source": [
    "ith = 9\n",
    "keyword = testing_keywords[ith]\n",
    "probs = prob_matrix[:, ith]\n",
    "ranks = np.argsort(-probs) # 由于默认使用升序，所以使用负号\n",
    "print(keyword, ':')\n",
    "for i, r in enumerate(ranks[:30]): # 看前十个\n",
    "    report = sorted_data[r]\n",
    "    print(report['title'], probs[r])\n",
    "\n",
    "print('gold reports:')\n",
    "gold_reports = topic_2_reports.get(keyword, [])\n",
    "for i, report in gold_reports:\n",
    "    print(report)"
   ]
  },
  {
   "cell_type": "markdown",
   "metadata": {},
   "source": [
    "## 概率转移矩阵中参数的确定"
   ]
  },
  {
   "cell_type": "markdown",
   "metadata": {},
   "source": [
    "### 空间距离因素"
   ]
  },
  {
   "cell_type": "code",
   "execution_count": 50,
   "metadata": {},
   "outputs": [
    {
     "name": "stdout",
     "output_type": "stream",
     "text": [
      "[[ 1. 10.  2. 10.  2. 10. 10. 10. 15. 15. 15. 15. 15.  2.  2.]\n",
      " [10.  1. 10.  3. 10.  3.  3.  3. 20. 20. 20. 20. 20. 10. 10.]\n",
      " [ 2. 10.  1. 10.  2. 10. 10. 10. 15. 15. 15. 15. 15.  2.  2.]\n",
      " [10.  3. 10.  1. 10.  3.  3.  3. 20. 20. 20. 20. 20. 10. 10.]\n",
      " [ 2. 10.  2. 10.  1. 10. 10. 10. 15. 15. 15. 15. 15.  2.  2.]\n",
      " [10.  3. 10.  3. 10.  1.  3.  3. 20. 20. 20. 20. 20. 10. 10.]\n",
      " [10.  3. 10.  3. 10.  3.  1.  3. 20. 20. 20. 20. 20. 10. 10.]\n",
      " [10.  3. 10.  3. 10.  3.  3.  1. 20. 20. 20. 20. 20. 10. 10.]\n",
      " [15. 20. 15. 20. 15. 20. 20. 20.  1.  3.  3.  3.  3. 15. 15.]\n",
      " [15. 20. 15. 20. 15. 20. 20. 20.  3.  1.  3.  3.  3. 15. 15.]\n",
      " [15. 20. 15. 20. 15. 20. 20. 20.  3.  3.  1.  3.  3. 15. 15.]\n",
      " [15. 20. 15. 20. 15. 20. 20. 20.  3.  3.  3.  1.  3. 15. 15.]\n",
      " [15. 20. 15. 20. 15. 20. 20. 20.  3.  3.  3.  3.  1. 15. 15.]\n",
      " [ 2. 10.  2. 10.  2. 10. 10. 10. 15. 15. 15. 15. 15.  1.  2.]\n",
      " [ 2. 10.  2. 10.  2. 10. 10. 10. 15. 15. 15. 15. 15.  2.  1.]]\n"
     ]
    }
   ],
   "source": [
    "area1 = {'分会场一', '分会场二', '分会场三', '分会场四', '黄龙水晶宫'}\n",
    "area2 = {'分会场五', '分会场六', '分会场七', '分会场八', '分会场九'}\n",
    "area3 = {'分会场十', '分会场十一', '分会场十二', '分会场十三', '分会场十四'}\n",
    "distance_dict = {\n",
    "    '11': 2, '22': 3, '33': 3,\n",
    "    '12': 10, '21': 10, '13': 15, '31':15,\n",
    "    '23': 20, '32': 20\n",
    "}\n",
    "distance_matrix = np.zeros((len(hall_2_id), len(hall_2_id)), dtype=float)\n",
    "hall_2_area = {h: 1 for h in area1}\n",
    "hall_2_area.update({h: 2 for h in area2})\n",
    "hall_2_area.update({h: 3 for h in area3})\n",
    "\n",
    "for i in range(len(hall_2_id)):\n",
    "    from_hall = id_2_hall[i]\n",
    "    from_area = hall_2_area[from_hall]\n",
    "    distance_matrix[i, i] = 1\n",
    "    for j in range(i):\n",
    "        to_hall = id_2_hall[j]\n",
    "        to_area = hall_2_area[to_hall]\n",
    "        dis = distance_dict[str(from_area)+str(to_area)]\n",
    "        distance_matrix[i, j] = distance_matrix[j, i] = dis\n",
    "print(distance_matrix)"
   ]
  },
  {
   "cell_type": "markdown",
   "metadata": {},
   "source": [
    "### 时间间隔因素"
   ]
  },
  {
   "cell_type": "code",
   "execution_count": null,
   "metadata": {},
   "outputs": [],
   "source": [
    "len(start_time_set)\n",
    "transfer_matrices = []\n",
    "for i in range(len(group_dict)-1):\n",
    "    transfer_mat = np.zeros((group_max_len, group_max_len), dtype=float)\n",
    "    from_group = group_dict[i]\n",
    "    to_group = group_dict[i+1]\n",
    "    for i, from_r in enumerate(from_group):\n",
    "        from_hall_id = sorted_data[from_r]['hall_id']\n",
    "        for j, to_r in enumerate(to_group):\n",
    "            to_hall_id = sorted_data[to_r]['hall_id']\n",
    "            distance = distance_matrix[from_hall_id, to_hall_id]\n",
    "            transfer_mat[i, j] = 1 / distance # 距离的倒数\n",
    "    transfer_matrices.append(transfer_mat)\n",
    "print(transfer_matrices[9])"
   ]
  },
  {
   "cell_type": "code",
   "execution_count": 56,
   "metadata": {},
   "outputs": [
    {
     "data": {
      "text/plain": [
       "47"
      ]
     },
     "execution_count": 56,
     "metadata": {},
     "output_type": "execute_result"
    }
   ],
   "source": [
    "len(transfer_matrices)"
   ]
  },
  {
   "cell_type": "markdown",
   "metadata": {},
   "source": [
    "### 条件随机场"
   ]
  },
  {
   "cell_type": "code",
   "execution_count": 4,
   "metadata": {},
   "outputs": [],
   "source": [
    "from typing import Tuple, List\n",
    "def step(mu_prev: np.ndarray,\n",
    "         emission_probs: np.ndarray,\n",
    "         transition_probs: np.ndarray,\n",
    "         observed_state: int) -> Tuple[np.ndarray, np.ndarray]:\n",
    "    \"\"\"Runs one step of the Viterbi algorithm.\n",
    "    \n",
    "    Args:\n",
    "        mu_prev: probability distribution with shape (num_hidden),\n",
    "            the previous mu\n",
    "        emission_probs: the emission probability matrix (num_hidden,\n",
    "            num_observed)\n",
    "        transition_probs: the transition probability matrix, with\n",
    "            shape (num_hidden, num_hidden)\n",
    "        observed_state: the observed state at the current step\n",
    "    \n",
    "    Returns:\n",
    "        - the mu for the next step\n",
    "        - the maximizing previous state, before the current state,\n",
    "          as an int array with shape (num_hidden)\n",
    "    \"\"\"\n",
    "    \n",
    "    pre_max = mu_prev * transition_probs.T\n",
    "    max_prev_states = np.argmax(pre_max, axis=1)\n",
    "    max_vals = pre_max[np.arange(len(max_prev_states)), max_prev_states]\n",
    "    mu_new = max_vals * emission_probs[:, observed_state]\n",
    "    \n",
    "    return mu_new, max_prev_states\n",
    "\n",
    "\n",
    "def viterbi(emission_probs: np.ndarray,\n",
    "            transition_probs: np.ndarray) -> Tuple[List[int], float]:\n",
    "    \"\"\"Runs the Viterbi algorithm to get the most likely state sequence.\n",
    "    \n",
    "    Args:\n",
    "        emission_probs: the emission probability matrix (num_hidden,\n",
    "            steps)\n",
    "        transition_probs: the transition probability matrix, with\n",
    "            shape (steps-1, num_hidden, num_hidden)\n",
    "    \n",
    "    Returns:\n",
    "        - the most likely series of states\n",
    "        - the joint probability of that series of states and the observed\n",
    "    \"\"\"\n",
    "    \n",
    "    # Runs the forward pass, storing the most likely previous state.\n",
    "    assert emission_probs.shape[-1] - 1 == transition_probs.shape[0]\n",
    "    mu = emission_probs[:, 0]\n",
    "    all_prev_states = []\n",
    "    for t in range(1, emission_probs.shape[-1]):\n",
    "        mu, prevs = step(mu, emission_probs, transition_probs[t-1], t)\n",
    "        all_prev_states.append(prevs)\n",
    "    \n",
    "    # Traces backwards to get the maximum likelihood sequence.\n",
    "    state = np.argmax(mu)\n",
    "    sequence_prob = mu[state]\n",
    "    state_sequence = [state]\n",
    "    for prev_states in all_prev_states[::-1]:\n",
    "        state = prev_states[state]\n",
    "        state_sequence.append(state)\n",
    "    \n",
    "    return state_sequence[::-1], sequence_prob"
   ]
  },
  {
   "cell_type": "code",
   "execution_count": null,
   "metadata": {},
   "outputs": [],
   "source": [
    "group_dict"
   ]
  },
  {
   "cell_type": "code",
   "execution_count": 75,
   "metadata": {},
   "outputs": [
    {
     "name": "stdout",
     "output_type": "stream",
     "text": [
      "[0, 0, 0, 0, 0, 0, 0, 9, 10, 4, 1, 3, 9, 3, 6, 5, 2, 8, 8, 7, 3, 12, 4, 6, 6, 0, 19, 0, 0, 0, 4, 0, 11, 7, 9, 11, 14, 6, 4, 12, 1, 4, 0, 0, 0, 0, 0, 0] 1.6875989651340056e-11\n"
     ]
    }
   ],
   "source": [
    "kw_i = 6 # 第几个 testing_keywords\n",
    "steps = len(group_dict)\n",
    "num_hidden = group_max_len\n",
    "transition_probs = np.array(transfer_matrices, dtype=float) # np.random.rand(steps-1, num_hidden, num_hidden)\n",
    "emission_probs = np.full((num_hidden, steps), -1000, dtype=float) # (num_hidden, steps)\n",
    "probs = prob_matrix[:, kw_i]\n",
    "for g_id in range(len(group_dict)):\n",
    "    group = group_dict[g_id]\n",
    "    for ind, report_id in enumerate(group):\n",
    "        emission_probs[ind, g_id] = probs[report_id]\n",
    "\n",
    "seq, prob = viterbi(emission_probs, transition_probs)\n",
    "print(seq, prob)"
   ]
  },
  {
   "cell_type": "markdown",
   "metadata": {},
   "source": [
    "#### 展示推荐序列"
   ]
  },
  {
   "cell_type": "code",
   "execution_count": 76,
   "metadata": {},
   "outputs": [
    {
     "name": "stdout",
     "output_type": "stream",
     "text": [
      "时空模拟与预测 :\n",
      "7 2021-10-16 13:30-13:50 多粒度时空对象建模理论研究 3.290858507156372\n",
      "8 2021-10-16 13:50-14:10 历史-现势一体的时空大数据管理 3.0428085327148438\n",
      "9 2021-10-16 14:00-14:15 基于轨迹数据的城市内涝交通暴露性时空模拟 7.124446868896484\n",
      "10 2021-10-16 14:15-14:30 基于眼动数据的人类空间导航行为模式识别与预测 3.5094242095947266\n",
      "18 2021-10-16 16:30-16:50 时空信息预测：从线性假设到不变性假设 15.986931800842285\n",
      "20 2021-10-16 16:50-17:05 两种时空模拟方法—贝叶斯最大熵和集成嵌套拉普拉斯—在江苏省土壤有机质制图中的应用 7.694623947143555\n",
      "23 2021-10-16 17:35-17:50 城市洪涝灾害脆弱性的综合量化模型与时空模拟 10.590811729431152\n",
      "26 2021-10-17 8:10-8:20 登革热时空预报模型 3.7622668743133545\n",
      "30 2021-10-17 9:00-9:15 面向粤港澳大湾区的时空数据分析与综合模拟 3.81354022026062\n",
      "31 2021-10-17 9:10-9:20 武汉新冠肺炎治愈患者时空行为分析 3.1768651008605957\n",
      "38 2021-10-17 11:06-11:14 基于出租车轨迹数据的居民区房价分析与预测 4.899379253387451\n",
      "39 2021-10-17 11:30-11:38 基于轨迹数据的城市交通信息转向级挖掘与预测 4.563422203063965\n"
     ]
    }
   ],
   "source": [
    "print(testing_keywords[kw_i], ':')\n",
    "for i_group, ind in enumerate(seq):\n",
    "    report_id = group_dict[i_group][ind]\n",
    "    selected_report = sorted_data[report_id]\n",
    "    title = selected_report['title']\n",
    "    date, time = selected_report['date'], selected_report['time']\n",
    "    emi_prob = prob_matrix[report_id, kw_i]\n",
    "    if emi_prob > 3:\n",
    "        print(i_group, date+' '+time , title, emi_prob)"
   ]
  },
  {
   "cell_type": "markdown",
   "metadata": {},
   "source": [
    "## 基于字符串的文本相似度计算"
   ]
  },
  {
   "cell_type": "markdown",
   "metadata": {},
   "source": [
    "- The Dice similarity score is defined as twice the shared information (intersection) divided by sum of cardinalities. For two sets X and Y, the Dice similarity score is:\n",
    "$$\n",
    "dice(X, Y) = \\frac{2 * |X \\cap Y|}{|X| + |Y|}\n",
    "$$\n",
    "\n",
    "- The overlap coefficient is a similarity measure related to the Jaccard measure that measures the overlap between two sets, and is defined as the size of the intersection divided by the smaller of the size of the two sets. For two sets X and Y, the overlap coefficient is:\n",
    "$$\n",
    "overlap\\_coefficient(X, Y) = \\frac{|X \\cap Y|}{\\min(|X|, |Y|)}\n",
    "$$\n",
    "\n",
    "Note, however, that certain measures such as affine gap, Monge-Elkan, Needleman-Wunsch, Smith-Waterman and Soft TF/IDF do not have a get_sim_score method, because there is no straightforward way to normalize the raw scores of these measures into similarity scores in [0,1]"
   ]
  },
  {
   "cell_type": "code",
   "execution_count": 11,
   "metadata": {},
   "outputs": [],
   "source": [
    "import py_stringmatching.similarity_measure as SM"
   ]
  },
  {
   "cell_type": "code",
   "execution_count": 31,
   "metadata": {},
   "outputs": [
    {
     "name": "stdout",
     "output_type": "stream",
     "text": [
      "Cosine: 0.7559289460184544 0.7559289460184544\n",
      "BagDistance: 3 0.5714285714285714\n",
      "Dice: 0.7272727272727273 0.7272727272727273\n",
      "GeneralizedJaccard: 0.5714285714285714 0.5714285714285714\n",
      "Jaccard: 0.5714285714285714 0.5714285714285714\n",
      "Jaro: 0 0\n",
      "Levenshtein: 3 0.5714285714285714\n",
      "MongeElkan: 1.0 1.0\n",
      "NeedlemanWunsch: 1.0 1.0\n",
      "OverlapCoefficient: 1.0 1.0\n",
      "PartialRatio: 100 1.0\n",
      "SmithWaterman: 4.0 4.0\n",
      "SoftTfIdf: 0.5 0.5\n",
      "TfIdf: 0.0 0.0\n",
      "TverskyIndex: 0.7272727272727273 0.7272727272727273\n"
     ]
    }
   ],
   "source": [
    "text1 = '轨迹数据'\n",
    "text2 = '出租车轨迹数据'\n",
    "list1 = list(text1)\n",
    "list2 = list(text2)\n",
    "\n",
    "cos = SM.cosine.Cosine()\n",
    "raw_s = cos.get_raw_score(list1, list2)\n",
    "sim_s = cos.get_sim_score(list1, list2)\n",
    "print('Cosine:', raw_s, sim_s)\n",
    "\n",
    "bd = SM.bag_distance.BagDistance()\n",
    "raw_s = bd.get_raw_score(text1, text2)\n",
    "sim_s = bd.get_sim_score(text1, text2)\n",
    "print('BagDistance:', raw_s, sim_s)\n",
    "\n",
    "dice = SM.dice.Dice()\n",
    "raw_s = dice.get_raw_score(list1, list2)\n",
    "sim_s = dice.get_sim_score(list1, list2)\n",
    "print('Dice:', raw_s, sim_s)\n",
    "\n",
    "gj = SM.generalized_jaccard.GeneralizedJaccard()\n",
    "raw_s = gj.get_raw_score(list1, list2)\n",
    "sim_s = gj.get_sim_score(list1, list2)\n",
    "print('GeneralizedJaccard:', raw_s, sim_s)\n",
    "\n",
    "jac = SM.jaccard.Jaccard()\n",
    "raw_s = jac.get_raw_score(list1, list2)\n",
    "sim_s = jac.get_sim_score(list1, list2)\n",
    "print('Jaccard:', raw_s, sim_s)\n",
    "\n",
    "jaro = SM.jaro.Jaro()\n",
    "raw_s = jaro.get_raw_score(text1, text2)\n",
    "sim_s = jaro.get_sim_score(text1, text2)\n",
    "print('Jaro:', raw_s, sim_s)\n",
    "\n",
    "lev = SM.levenshtein.Levenshtein()\n",
    "raw_s = lev.get_raw_score(text1, text2)\n",
    "sim_s = lev.get_sim_score(text1, text2)\n",
    "print('Levenshtein:', raw_s, sim_s)\n",
    "\n",
    "me = SM.monge_elkan.MongeElkan()\n",
    "raw_s = me.get_raw_score(list1, list2)\n",
    "sim_s = raw_s # me.get_sim_score(list1, list2)\n",
    "print('MongeElkan:', raw_s, sim_s)\n",
    "\n",
    "nw = SM.needleman_wunsch.NeedlemanWunsch()\n",
    "raw_s = nw.get_raw_score(text1, text2)\n",
    "sim_s = raw_s # me.get_sim_score(list1, list2)\n",
    "print('NeedlemanWunsch:', raw_s, sim_s)\n",
    "\n",
    "oc = SM.overlap_coefficient.OverlapCoefficient()\n",
    "raw_s = oc.get_raw_score(list1, list2)\n",
    "sim_s = oc.get_sim_score(list1, list2)\n",
    "print('OverlapCoefficient:', raw_s, sim_s)\n",
    "\n",
    "s = SM.partial_ratio.PartialRatio()\n",
    "raw_s = s.get_raw_score(text1, text2)\n",
    "sim_s = s.get_sim_score(text1, text2)\n",
    "print('PartialRatio:', raw_s, sim_s)\n",
    "\n",
    "# s = SM.partial_token_sort.PartialTokenSort()\n",
    "# raw_s = s.get_raw_score(text1, text2)\n",
    "# sim_s = s.get_sim_score(text1, text2)\n",
    "# print('PartialTokenSort:', raw_s, sim_s)\n",
    "\n",
    "# s = SM.ratio.Ratio()\n",
    "# raw_s = s.get_raw_score(text1, text2)\n",
    "# sim_s = s.get_sim_score(text1, text2)\n",
    "# print('PartialRatio:', raw_s, sim_s)\n",
    "\n",
    "sw = SM.smith_waterman.SmithWaterman()\n",
    "raw_s = sw.get_raw_score(text1, text2)\n",
    "sim_s = raw_s # sw.get_sim_score(text1, text2)\n",
    "print('SmithWaterman:', raw_s, sim_s)\n",
    "\n",
    "soft_tfidf = SM.soft_tfidf.SoftTfIdf()\n",
    "raw_s = soft_tfidf.get_raw_score(list1, list2)\n",
    "sim_s = raw_s\n",
    "print('SoftTfIdf:', raw_s, sim_s)\n",
    "\n",
    "tfidf = SM.tfidf.TfIdf()\n",
    "raw_s = tfidf.get_raw_score(list1, list2)\n",
    "sim_s = tfidf.get_raw_score(list1, list2)\n",
    "print('TfIdf:', raw_s, sim_s)\n",
    "\n",
    "# s = SM.token_sort.TokenSort()\n",
    "# raw_s = s.get_raw_score(text1, text2)\n",
    "# sim_s = s.get_sim_score(text1, text2)\n",
    "# print('TokenSort:', raw_s, sim_s)\n",
    "\n",
    "tvi = SM.tversky_index.TverskyIndex()\n",
    "raw_s = tvi.get_raw_score(list1, list2)\n",
    "sim_s = tvi.get_raw_score(list1, list2)\n",
    "print('TverskyIndex:', raw_s, sim_s)"
   ]
  },
  {
   "cell_type": "code",
   "execution_count": 12,
   "metadata": {},
   "outputs": [
    {
     "name": "stdout",
     "output_type": "stream",
     "text": [
      "时空大数据 \t 基于手机大数据的城市居民时空停留模式研究 \t Score: 1.0000\n",
      "时空大数据 \t 基于时空大数据的粤港澳大湾区城市群综合决策和协同服务研究框架 \t Score: 1.0000\n",
      "时空大数据 \t 面向粤港澳大湾区的时空数据分析与综合模拟 \t Score: 1.0000\n",
      "时空大数据 \t 多源时空大数据驱动的COVID-19风险建模与制图 \t Score: 1.0000\n",
      "时空大数据 \t 城市群时空多尺度大数据的认知计算 \t Score: 1.0000\n",
      "时空大数据 \t 大数据时空化的基本问题与挑战 \t Score: 1.0000\n",
      "时空大数据 \t 历史-现势一体的时空大数据管理 \t Score: 1.0000\n",
      "时空大数据 \t 多源时空数据支撑下的城市人-车协同疏散 \t Score: 0.8000\n",
      "时空大数据 \t 基于大数据的中国创业情感的空间差异及其对创业率的影响 \t Score: 0.8000\n",
      "时空大数据 \t 多源、多尺度极地海洋环境数据动态粒子模型构建及时空过程分析方法研究 \t Score: 0.8000\n",
      "人工智能 \t 人工智能驱动的领域知识建模与深度共享服务 \t Score: 1.0000\n",
      "人工智能 \t 一种非刚性网格标识的复杂场景多无人机智能协同路径规划方法 \t Score: 0.7500\n",
      "人工智能 \t 面向AI的多源时空遥感影像智能处理及其应用 \t Score: 0.5000\n",
      "人工智能 \t 个体轨迹数据支持下的基于空间显式智能体模型模拟COVID-19在城市内部的传播 \t Score: 0.5000\n",
      "人工智能 \t 构建“智能”的时空实体——行为与认知建模 \t Score: 0.5000\n",
      "人工智能 \t 多光谱LiDAR点云智能分类 \t Score: 0.5000\n",
      "人工智能 \t 大数据-小样本背景下的遥感图像智能识别 \t Score: 0.5000\n",
      "人工智能 \t 不同可持续发展目标情景下地理智能建模 \t Score: 0.5000\n",
      "人工智能 \t 基于多时相卫星影像的地块与作物智能化识别 \t Score: 0.5000\n",
      "人工智能 \t 室内点云智能处理 \t Score: 0.5000\n",
      "粤港澳大湾区 \t 面向粤港澳大湾区的土地利用-人口-GDP多要素协同模拟模型 \t Score: 1.0000\n",
      "粤港澳大湾区 \t 基于GEE与长时序遥感影像的粤港澳大湾区红树林连续变化检测研究 \t Score: 1.0000\n",
      "粤港澳大湾区 \t 基于时空大数据的粤港澳大湾区城市群综合决策和协同服务研究框架 \t Score: 1.0000\n",
      "粤港澳大湾区 \t “灵魂”引领下粤港澳大湾区智慧城市群的构建 \t Score: 1.0000\n",
      "粤港澳大湾区 \t 新时期粤港澳大湾区城市群协同发展的内涵与综合测度 \t Score: 1.0000\n",
      "粤港澳大湾区 \t 粤港澳大湾区城市群暴雨内涝事件的影响机制研究 \t Score: 1.0000\n",
      "粤港澳大湾区 \t 基于手机定位数据的粤港澳大湾区空间网络格局研究 \t Score: 1.0000\n",
      "粤港澳大湾区 \t 面向粤港澳大湾区的时空数据分析与综合模拟 \t Score: 1.0000\n",
      "粤港澳大湾区 \t 粤港澳大湾区城市群时空演化分异特征分析 \t Score: 1.0000\n",
      "粤港澳大湾区 \t 城市群综合数据一体化管理平台的设计——以粤港澳大湾区为例 \t Score: 1.0000\n",
      "空间可达性 \t 基于改进引力模型的多尺度公园绿地空间可达性研究 \t Score: 1.0000\n",
      "空间可达性 \t 基于最优供需分配的公共设施空间可达性分析方法 \t Score: 1.0000\n",
      "空间可达性 \t 基于地理对象网格表达的高性能空间分析 \t Score: 0.8000\n",
      "空间可达性 \t 土地利用变化元胞自动机模拟的空间尺度敏感性分析 \t Score: 0.6000\n",
      "空间可达性 \t 空间分异性统计理论 \t Score: 0.6000\n",
      "空间可达性 \t 新冠疫情期间流动性限制政策效应的时空异质性分析 \t Score: 0.6000\n",
      "空间可达性 \t 顾及全局空间自相关性和局部空间异质性的地面PM2.5浓度建模方法 \t Score: 0.6000\n",
      "空间可达性 \t 土地利用驱动的多模型耦合与可持续发展目标的空间模拟 \t Score: 0.6000\n",
      "空间可达性 \t 空间相似性计算模型支持下的道路网综合质量评价方法 \t Score: 0.6000\n",
      "空间可达性 \t 一种检测空间集聚异质性特征的新方法 \t Score: 0.6000\n",
      "光学遥感 \t 一种结合多源异质数据的光学遥感影像大面积云污染去除深度框架 \t Score: 1.0000\n",
      "光学遥感 \t 基于AI技术的多源光学遥感影像云处理方法研究 \t Score: 1.0000\n",
      "光学遥感 \t 微波和光学遥感支持下稀疏光合/非光合植被覆盖度估算 \t Score: 1.0000\n",
      "光学遥感 \t 浅海水深光学遥感反演与应用 \t Score: 1.0000\n",
      "光学遥感 \t 融合多时相光学和雷达遥感影像的大尺度覆膜农田制图 \t Score: 1.0000\n",
      "光学遥感 \t 对象化深度学习遥感信息分析研究与应用 \t Score: 0.7500\n",
      "光学遥感 \t 基于卷积神经网络和集成学习的高分辨率覆膜农田遥感影像场景分类 \t Score: 0.7500\n",
      "光学遥感 \t 深度学习在遥感图像语义分割中的挑战 \t Score: 0.7500\n",
      "光学遥感 \t 多源夜光遥感大数据协同的城市化地区空间范围动态感知 \t Score: 0.7500\n",
      "光学遥感 \t 线性与非线性关系同时建模的深度学习框架在大气环境遥感中的应用 \t Score: 0.7500\n",
      "轨迹数据挖掘 \t 基于轨迹数据的城市交通信息转向级挖掘与预测 \t Score: 1.0000\n",
      "轨迹数据挖掘 \t 基于船舶轨迹数据的全球港口原油贸易网络分析 \t Score: 0.6667\n",
      "轨迹数据挖掘 \t 基于出租车轨迹数据的居民区房价分析与预测 \t Score: 0.6667\n",
      "轨迹数据挖掘 \t 面向可持续发展目标的人类数字足迹挖掘研究 \t Score: 0.6667\n",
      "轨迹数据挖掘 \t 个体轨迹数据支持下的基于空间显式智能体模型模拟COVID-19在城市内部的传播 \t Score: 0.6667\n",
      "轨迹数据挖掘 \t 地理大数据挖掘的方法体系及主要进展 \t Score: 0.6667\n",
      "轨迹数据挖掘 \t 基于轨迹数据的城市内涝交通暴露性时空模拟 \t Score: 0.6667\n",
      "轨迹数据挖掘 \t 融合多源数据的灾害信息挖掘 \t Score: 0.6667\n",
      "轨迹数据挖掘 \t 融合机动车轨迹数据的不透水面提取 \t Score: 0.6667\n",
      "轨迹数据挖掘 \t XSTAR：一个用于出租车轨迹大数据处理和分析的软件系统 \t Score: 0.6667\n",
      "时空模拟与预测 \t 基于时空因果卷积模型的PM2.5浓度细粒度预测 \t Score: 0.7143\n",
      "时空模拟与预测 \t 城市洪涝灾害脆弱性的综合量化模型与时空模拟 \t Score: 0.7143\n",
      "时空模拟与预测 \t 碳密度的遥感时空预测与南亚热带森林碳源汇分布变化研究 \t Score: 0.7143\n",
      "时空模拟与预测 \t 基于眼动数据的人类空间导航行为模式识别与预测 \t Score: 0.7143\n",
      "时空模拟与预测 \t 面向粤港澳大湾区的时空数据分析与综合模拟 \t Score: 0.7143\n",
      "时空模拟与预测 \t 藏西南地区冰碛湖灾害遥感监测评价与模拟分析 \t Score: 0.5714\n",
      "时空模拟与预测 \t 城市空间增长的宏观过程分析与模拟 \t Score: 0.5714\n",
      "时空模拟与预测 \t 时空非平稳视角下的并行优化建模与应用 \t Score: 0.5714\n",
      "时空模拟与预测 \t 构建“智能”的时空实体——行为与认知建模 \t Score: 0.5714\n",
      "时空模拟与预测 \t 基于机器学习的郑州市热环境模拟及热岛时空变化分析 \t Score: 0.5714\n",
      "地理时空建模 \t 基于GIS和空间网络理论的地震时空网络建模与分析方法 \t Score: 1.0000\n",
      "地理时空建模 \t 多粒度时空对象建模理论研究 \t Score: 0.8333\n",
      "地理时空建模 \t 多源、多尺度极地海洋环境数据动态粒子模型构建及时空过程分析方法研究 \t Score: 0.8333\n",
      "地理时空建模 \t 基于时空内容特征的地理科技论文关联网络构建 \t Score: 0.8333\n",
      "地理时空建模 \t 船舶时空行为与海上运输网络时空关联与耦合推理建模研究 \t Score: 0.8333\n",
      "地理时空建模 \t 自然与人为过程耦合的地理模拟平台搭建及应用 \t Score: 0.6667\n",
      "地理时空建模 \t 地理空间模型数据自动匹配研究：地理空间数据—模型共享的新范式（线上） \t Score: 0.6667\n",
      "地理时空建模 \t 时空非平稳视角下的并行优化建模与应用 \t Score: 0.6667\n",
      "地理时空建模 \t 构建“智能”的时空实体——行为与认知建模 \t Score: 0.6667\n",
      "地理时空建模 \t 集成历史文献挖掘与地理建模的土地利用重建 \t Score: 0.6667\n",
      "遥感变化检测与地图更新 \t 基于GEE与长时序遥感影像的粤港澳大湾区红树林连续变化检测研究 \t Score: 0.6364\n",
      "遥感变化检测与地图更新 \t 苍灵AI遥感变化自动检测技术与业务化应用 \t Score: 0.6364\n",
      "遥感变化检测与地图更新 \t 基于主动轮廓模型的遥感影像变化检测 \t Score: 0.5455\n",
      "遥感变化检测与地图更新 \t 碳密度的遥感时空预测与南亚热带森林碳源汇分布变化研究 \t Score: 0.5455\n",
      "遥感变化检测与地图更新 \t 面向自然资源的遥感影像深度学习自动不变检测－变化提取技术 \t Score: 0.5455\n",
      "遥感变化检测与地图更新 \t 基于多层次监督和深度度量学习的遥感变化检测方法 \t Score: 0.5455\n",
      "遥感变化检测与地图更新 \t 特征-输出双对齐的遥感影像建筑物变化检测 \t Score: 0.5455\n",
      "遥感变化检测与地图更新 \t 基于古旧地图与遥感影像的上海开埠至今城市扩张研究(1843-2020)——兼论遥感前时代的实测空间资料 \t Score: 0.5455\n",
      "遥感变化检测与地图更新 \t 遥感图像检索研究 \t Score: 0.5000\n",
      "遥感变化检测与地图更新 \t 藏西南地区冰碛湖灾害遥感监测评价与模拟分析 \t Score: 0.4545\n",
      "地理信息共享与互操作 \t 地理信息共享新模式：从分析就绪、AI就绪到决策就绪 \t Score: 0.6000\n",
      "地理信息共享与互操作 \t NSFC信息地理学的机遇与挑战 \t Score: 0.5000\n",
      "地理信息共享与互操作 \t 地图语言的延伸与多模态地理信息融合表达 \t Score: 0.5000\n",
      "地理信息共享与互操作 \t 支持地理信息服务链可视化构建与执行的BPMN扩展框架模型设计 \t Score: 0.5000\n",
      "地理信息共享与互操作 \t 多源空间信息同化与共享服务关键技术研究 \t Score: 0.5000\n",
      "地理信息共享与互操作 \t 智慧城市背景下的地理信息知识组织与重用 \t Score: 0.5000\n",
      "地理信息共享与互操作 \t 地理分析模型的共享与重用方法研究 \t Score: 0.5000\n",
      "地理信息共享与互操作 \t 地理空间模型数据自动匹配研究：地理空间数据—模型共享的新范式（线上） \t Score: 0.4000\n",
      "地理信息共享与互操作 \t 融合InSAR与水准测量的全盆地沉降信息 多源反演模型 \t Score: 0.4000\n",
      "地理信息共享与互操作 \t 一种多元地理信息处理服务拓展的框架构建 \t Score: 0.4000\n"
     ]
    }
   ],
   "source": [
    "str_smi_model = SM.overlap_coefficient.OverlapCoefficient()\n",
    "title_list = list(title_set)\n",
    "for i, keyword in enumerate(testing_keywords):\n",
    "    pairs = []\n",
    "    for j, title in enumerate(title_list):\n",
    "        score = str_smi_model.get_sim_score(list(keyword), list(title))\n",
    "        pairs.append({'index': j, 'score': score})\n",
    "        #\n",
    "    pairs = sorted(pairs, key=lambda x: x['score'], reverse=True)\n",
    "    for pair in pairs[:10]:\n",
    "        print('{} \\t {} \\t Score: {:.4f}'.format(keyword, title_list[pair['index']], pair['score']))"
   ]
  },
  {
   "cell_type": "markdown",
   "metadata": {},
   "source": [
    "## 基于词向量的文本相似度计算"
   ]
  },
  {
   "cell_type": "code",
   "execution_count": 10,
   "metadata": {},
   "outputs": [
    {
     "name": "stderr",
     "output_type": "stream",
     "text": [
      "2022-02-08 12:28:40.703 | DEBUG    | text2vec.word2vec:__init__:81 - Load w2v from w2v-light-tencent-chinese, spend 1.20 sec\n",
      "2022-02-08 12:28:40.705 | DEBUG    | text2vec.word2vec:__init__:85 - Word count: 143613, emb size: 200\n",
      "2022-02-08 12:28:40.706 | DEBUG    | text2vec.word2vec:__init__:86 - Set stopwords: ['--', '?', 'ZT', 'ZZ', \"a's\", 'able', 'about', 'above', 'according', 'accordingly'], count: 1396\n"
     ]
    },
    {
     "name": "stdout",
     "output_type": "stream",
     "text": [
      "时空大数据 \t 大数据空间回归方法：从GWR到GNNWR \t Score: 0.8894\n",
      "时空大数据 \t 大数据时空化的基本问题与挑战 \t Score: 0.8713\n",
      "时空大数据 \t 历史-现势一体的时空大数据管理 \t Score: 0.8578\n",
      "时空大数据 \t 基于最邻近时空距离的LUCC时空模式分析 \t Score: 0.8406\n",
      "时空大数据 \t 全空间技术在数据资产管理中的应用 \t Score: 0.8403\n",
      "时空大数据 \t 面向AI的多源时空遥感影像智能处理及其应用 \t Score: 0.8381\n",
      "时空大数据 \t 城市群时空多尺度大数据的认知计算 \t Score: 0.8310\n",
      "时空大数据 \t 遥感数据空时谱信息融合重建及应用 \t Score: 0.8259\n",
      "时空大数据 \t 多源时空数据支撑下的城市人-车协同疏散 \t Score: 0.8256\n",
      "时空大数据 \t 城市群时空数据感知、融合与质量分析 \t Score: 0.8231\n",
      "人工智能 \t 人工智能驱动的领域知识建模与深度共享服务 \t Score: 0.8557\n",
      "人工智能 \t 人群活动与城市空间交互模式的研究 \t Score: 0.8209\n",
      "人工智能 \t 一种非刚性网格标识的复杂场景多无人机智能协同路径规划方法 \t Score: 0.8192\n",
      "人工智能 \t 基于OCEAN大五人格的私家车轨迹画像研究 \t Score: 0.8161\n",
      "人工智能 \t 智慧城市背景下的地理信息知识组织与重用 \t Score: 0.8121\n",
      "人工智能 \t 从学术地图发布平台到古籍智慧大数据平台 \t Score: 0.8119\n",
      "人工智能 \t 新冠疫情不同阶段下北京市人群职住活动变化分析 \t Score: 0.8068\n",
      "人工智能 \t 不同可持续发展目标情景下地理智能建模 \t Score: 0.8068\n",
      "人工智能 \t 面向可持续发展目标的人类数字足迹挖掘研究 \t Score: 0.8067\n",
      "人工智能 \t 青藏高原城市生态系统中人类活动影响异质性测度方法研究 \t Score: 0.8054\n",
      "粤港澳大湾区 \t 新时期粤港澳大湾区城市群协同发展的内涵与综合测度 \t Score: 0.8269\n",
      "粤港澳大湾区 \t 粤港澳大湾区城市群时空演化分异特征分析 \t Score: 0.8187\n",
      "粤港澳大湾区 \t “灵魂”引领下粤港澳大湾区智慧城市群的构建 \t Score: 0.8160\n",
      "粤港澳大湾区 \t 面向粤港澳大湾区的时空数据分析与综合模拟 \t Score: 0.8143\n",
      "粤港澳大湾区 \t 面向粤港澳大湾区的土地利用-人口-GDP多要素协同模拟模型 \t Score: 0.8049\n",
      "粤港澳大湾区 \t 城市群综合数据一体化管理平台的设计——以粤港澳大湾区为例 \t Score: 0.8012\n",
      "粤港澳大湾区 \t 基于时空大数据的粤港澳大湾区城市群综合决策和协同服务研究框架 \t Score: 0.7826\n",
      "粤港澳大湾区 \t 粤港澳大湾区城市群暴雨内涝事件的影响机制研究 \t Score: 0.7813\n",
      "粤港澳大湾区 \t 基于手机定位数据的粤港澳大湾区空间网络格局研究 \t Score: 0.7588\n",
      "粤港澳大湾区 \t 基于GEE与长时序遥感影像的粤港澳大湾区红树林连续变化检测研究 \t Score: 0.7526\n",
      "空间可达性 \t 顾及全局空间自相关性和局部空间异质性的地面PM2.5浓度建模方法 \t Score: 0.8871\n",
      "空间可达性 \t 基于地理对象网格表达的高性能空间分析 \t Score: 0.8811\n",
      "空间可达性 \t 全空间技术在数据资产管理中的应用 \t Score: 0.8707\n",
      "空间可达性 \t 基于最优供需分配的公共设施空间可达性分析方法 \t Score: 0.8653\n",
      "空间可达性 \t 流空间邻近关系约束下的流行病分布空间异常探测 \t Score: 0.8590\n",
      "空间可达性 \t 土地利用变化元胞自动机模拟的空间尺度敏感性分析 \t Score: 0.8578\n",
      "空间可达性 \t 基于最优化方法的矢量要素间空间冲突探测与处理 \t Score: 0.8568\n",
      "空间可达性 \t 基于改进引力模型的多尺度公园绿地空间可达性研究 \t Score: 0.8562\n",
      "空间可达性 \t 空间分异性统计理论 \t Score: 0.8560\n",
      "空间可达性 \t 面向海量空间点的并行化聚类算法 \t Score: 0.8548\n",
      "光学遥感 \t 浅海水深光学遥感反演与应用 \t Score: 0.9029\n",
      "光学遥感 \t 一种结合多源异质数据的光学遥感影像大面积云污染去除深度框架 \t Score: 0.8809\n",
      "光学遥感 \t 融合多时相光学和雷达遥感影像的大尺度覆膜农田制图 \t Score: 0.8787\n",
      "光学遥感 \t 基于AI技术的多源光学遥感影像云处理方法研究 \t Score: 0.8771\n",
      "光学遥感 \t 多源夜光遥感大数据协同的城市化地区空间范围动态感知 \t Score: 0.8764\n",
      "光学遥感 \t 深度学习在遥感图像语义分割中的挑战 \t Score: 0.8740\n",
      "光学遥感 \t 微波和光学遥感支持下稀疏光合/非光合植被覆盖度估算 \t Score: 0.8728\n",
      "光学遥感 \t 面向自然资源的遥感影像深度学习自动不变检测－变化提取技术 \t Score: 0.8695\n",
      "光学遥感 \t 耦合知识图谱和深度学习的高分辨率遥感影像场景理解技术 \t Score: 0.8692\n",
      "光学遥感 \t 基于深度学习的遥感影像时空融合方法研究 \t Score: 0.8676\n",
      "轨迹数据挖掘 \t 基于轨迹数据的城市交通信息转向级挖掘与预测 \t Score: 0.8385\n",
      "轨迹数据挖掘 \t 融合多源数据的灾害信息挖掘 \t Score: 0.8189\n",
      "轨迹数据挖掘 \t 地理大数据挖掘的方法体系及主要进展 \t Score: 0.8169\n",
      "轨迹数据挖掘 \t 集成历史文献挖掘与地理建模的土地利用重建 \t Score: 0.8121\n",
      "轨迹数据挖掘 \t 基于轨迹数据的城市内涝交通暴露性时空模拟 \t Score: 0.8118\n",
      "轨迹数据挖掘 \t 面向可持续发展目标的人类数字足迹挖掘研究 \t Score: 0.8109\n",
      "轨迹数据挖掘 \t 基于稀疏时空轨迹嵌入的在线支付欺诈用户识别 \t Score: 0.8097\n",
      "轨迹数据挖掘 \t 融合机动车轨迹数据的不透水面提取 \t Score: 0.8034\n",
      "轨迹数据挖掘 \t 基于粗糙集的局部空间同位模式挖掘方法（线上） \t Score: 0.8005\n",
      "轨迹数据挖掘 \t 基于知识图谱语义计算的空间关系挖掘 \t Score: 0.8001\n",
      "时空模拟与预测 \t 登革热时空预报模型 \t Score: 0.8960\n",
      "时空模拟与预测 \t 基于眼动数据的人类空间导航行为模式识别与预测 \t Score: 0.8781\n",
      "时空模拟与预测 \t 面向COVID-19的非药物干预的空间溢出效应的建模 \t Score: 0.8655\n",
      "时空模拟与预测 \t 耦合词嵌入模型和多层注意力机制的城市人群轨迹预测研究 \t Score: 0.8644\n",
      "时空模拟与预测 \t 基于轨迹数据的城市内涝交通暴露性时空模拟 \t Score: 0.8638\n",
      "时空模拟与预测 \t 个体轨迹数据支持下的基于空间显式智能体模型模拟COVID-19在城市内部的传播 \t Score: 0.8620\n",
      "时空模拟与预测 \t 基于时空因果卷积模型的PM2.5浓度细粒度预测 \t Score: 0.8611\n",
      "时空模拟与预测 \t 时空泛在信息的建模与应用 \t Score: 0.8607\n",
      "时空模拟与预测 \t 城市洪涝灾害脆弱性的综合量化模型与时空模拟 \t Score: 0.8600\n",
      "时空模拟与预测 \t 土地利用驱动的多模型耦合与可持续发展目标的空间模拟 \t Score: 0.8570\n",
      "地理时空建模 \t 多粒度时空对象建模理论研究 \t Score: 0.9297\n",
      "地理时空建模 \t 时空泛在信息的建模与应用 \t Score: 0.9185\n",
      "地理时空建模 \t 构建“智能”的时空实体——行为与认知建模 \t Score: 0.9157\n",
      "地理时空建模 \t 时空非平稳视角下的并行优化建模与应用 \t Score: 0.9106\n",
      "地理时空建模 \t 顾及时空与机理特征的滑坡灾害知识图谱构建方法 \t Score: 0.9075\n",
      "地理时空建模 \t 基于手机大数据的城市居民时空停留模式研究 \t Score: 0.9071\n",
      "地理时空建模 \t 船舶时空行为与海上运输网络时空关联与耦合推理建模研究 \t Score: 0.9053\n",
      "地理时空建模 \t 基于GIS和空间网络理论的地震时空网络建模与分析方法 \t Score: 0.9041\n",
      "地理时空建模 \t 微观人群行为模拟的地理学建模、应用与思考 \t Score: 0.9038\n",
      "地理时空建模 \t 利用地理大数据刻画空间交互模式 \t Score: 0.9033\n",
      "遥感变化检测与地图更新 \t 特征-输出双对齐的遥感影像建筑物变化检测 \t Score: 0.9295\n",
      "遥感变化检测与地图更新 \t 基于主动轮廓模型的遥感影像变化检测 \t Score: 0.9270\n",
      "遥感变化检测与地图更新 \t 面向自然资源的遥感影像深度学习自动不变检测－变化提取技术 \t Score: 0.9142\n",
      "遥感变化检测与地图更新 \t 基于GEE与长时序遥感影像的粤港澳大湾区红树林连续变化检测研究 \t Score: 0.9076\n",
      "遥感变化检测与地图更新 \t 南亚热带森林碳收支通量变化的时序遥感监测 \t Score: 0.9019\n",
      "遥感变化检测与地图更新 \t 多传感器室内全景三维测图与全自动BIM重建 \t Score: 0.9018\n",
      "遥感变化检测与地图更新 \t 苍灵AI遥感变化自动检测技术与业务化应用 \t Score: 0.8994\n",
      "遥感变化检测与地图更新 \t 长时间序列城市空间动态变化遥感监测研究 \t Score: 0.8993\n",
      "遥感变化检测与地图更新 \t 基于多层次监督和深度度量学习的遥感变化检测方法 \t Score: 0.8990\n",
      "遥感变化检测与地图更新 \t 基于高分的变化检测现状与展望 \t Score: 0.8940\n",
      "地理信息共享与互操作 \t 地图语言的延伸与多模态地理信息融合表达 \t Score: 0.9005\n",
      "地理信息共享与互操作 \t 地理信息共享新模式：从分析就绪、AI就绪到决策就绪 \t Score: 0.8934\n",
      "地理信息共享与互操作 \t 大学地图集：信息“融合”设计实践 \t Score: 0.8929\n",
      "地理信息共享与互操作 \t 多源空间信息同化与共享服务关键技术研究 \t Score: 0.8899\n",
      "地理信息共享与互操作 \t NSFC信息地理学的机遇与挑战 \t Score: 0.8859\n",
      "地理信息共享与互操作 \t 一种多元地理信息处理服务拓展的框架构建 \t Score: 0.8858\n",
      "地理信息共享与互操作 \t 不同可持续发展目标情景下地理智能建模 \t Score: 0.8828\n",
      "地理信息共享与互操作 \t 知识驱动的空间信息服务动态协同方法 —以地表覆盖变化检测为例 \t Score: 0.8819\n",
      "地理信息共享与互操作 \t 一种互信息领域自适应网络用于高分辨率语义分割 \t Score: 0.8817\n",
      "地理信息共享与互操作 \t 智慧城市背景下的地理信息知识组织与重用 \t Score: 0.8796\n"
     ]
    }
   ],
   "source": [
    "from text2vec import Similarity\n",
    "title_list = list(title_set)\n",
    "# embedding_type: ['w2v', 'sbert']\n",
    "sim_model = Similarity(similarity_type='cosine', embedding_type='w2v')\n",
    "\n",
    "for i, keyword in enumerate(testing_keywords):\n",
    "    pairs = []\n",
    "    for j, title in enumerate(title_list):\n",
    "        score = sim_model.get_score(keyword, title)\n",
    "        pairs.append({'index': j, 'score': score})\n",
    "        #\n",
    "    pairs = sorted(pairs, key=lambda x: x['score'], reverse=True)\n",
    "    for pair in pairs[:10]:\n",
    "        print('{} \\t {} \\t Score: {:.4f}'.format(keyword, title_list[pair['index']], pair['score']))"
   ]
  }
 ],
 "metadata": {
  "interpreter": {
   "hash": "3725f9b6c50a9b1fb43ec92b9baad151c68ab0d5bd398e882ebcf6dd7767f72c"
  },
  "kernelspec": {
   "display_name": "Python 3.6.7 64-bit ('forltp': conda)",
   "language": "python",
   "name": "python3"
  },
  "language_info": {
   "codemirror_mode": {
    "name": "ipython",
    "version": 3
   },
   "file_extension": ".py",
   "mimetype": "text/x-python",
   "name": "python",
   "nbconvert_exporter": "python",
   "pygments_lexer": "ipython3",
   "version": "3.6.7"
  },
  "orig_nbformat": 4
 },
 "nbformat": 4,
 "nbformat_minor": 2
}
