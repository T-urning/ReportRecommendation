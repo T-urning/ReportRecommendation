{
 "cells": [
  {
   "cell_type": "code",
   "execution_count": 1,
   "metadata": {},
   "outputs": [],
   "source": [
    "import os\n",
    "import json\n",
    "import numpy as np\n",
    "import pandas as pd\n",
    "from tqdm import tqdm\n",
    "from collections import defaultdict"
   ]
  },
  {
   "cell_type": "markdown",
   "metadata": {},
   "source": [
    "## 报告数据标准化"
   ]
  },
  {
   "cell_type": "code",
   "execution_count": 2,
   "metadata": {},
   "outputs": [
    {
     "name": "stdout",
     "output_type": "stream",
     "text": [
      "481 {'date': '2021-10-16 星期六', 'hall': '黄龙水晶宫', 'host': '陆锋', 'topic': '09:10-10:40 | 特邀报告', 'time': '09:10-09:40', 'title': '全球位置服务网关键技术与研究进展', 'reporters': '龚健雅 院士', 'institutions': '武汉大学'} {'分会场四', '分会场十', '分会场十二', '分会场六', '分会场七', '分会场九', '分会场十一', '分会场一', '分会场五', '分会场三', '分会场二', '黄龙水晶宫', '分会场八', '分会场十四', '分会场十三'}\n",
      "{'分会场一': 0, '分会场七': 1, '分会场三': 2, '分会场九': 3, '分会场二': 4, '分会场五': 5, '分会场八': 6, '分会场六': 7, '分会场十': 8, '分会场十一': 9, '分会场十三': 10, '分会场十二': 11, '分会场十四': 12, '分会场四': 13, '黄龙水晶宫': 14}\n"
     ]
    }
   ],
   "source": [
    "data = json.load(open('data/conference/conference.json', encoding='utf-8', mode='r'))\n",
    "reports = []\n",
    "halls = set()\n",
    "for report in data:\n",
    "    title = report['title']\n",
    "    institutions = report['institutions']\n",
    "    if title and institutions:\n",
    "        reports.append(report)\n",
    "        halls.add(report['hall'])\n",
    "\n",
    "hall_2_id = {h:i for i, h in enumerate(sorted(halls))}\n",
    "id_2_hall = {i:h for h, i in hall_2_id.items()}\n",
    "print(len(reports), reports[0], halls)\n",
    "print(hall_2_id)"
   ]
  },
  {
   "cell_type": "markdown",
   "metadata": {},
   "source": [
    "### 报告时间与会场标准化\n",
    "需要提一下，有重复报告，这里我们采用去重的方法解决"
   ]
  },
  {
   "cell_type": "code",
   "execution_count": 3,
   "metadata": {},
   "outputs": [
    {
     "name": "stdout",
     "output_type": "stream",
     "text": [
      "康巴藏区藏传佛教寺院的空间布局特征及其影响因素\n",
      "基于GPS轨迹的西藏骑行游客时空行为分析\n",
      "基于轨迹大数据的游客行为研究：总结、局限与展望\n",
      "{'date': '2021-10-16', 'hall': '黄龙水晶宫', 'host': '陆锋', 'topic': '特邀报告', 'time': '09:10-09:40', 'title': '全球位置服务网关键技术与研究进展', 'reporters': '龚健雅 院士', 'institutions': '武汉大学', 'start_time': 119400, 'end_time': 121200, 'hall_id': 14}\n",
      "478 481\n"
     ]
    }
   ],
   "source": [
    "from datetime import datetime\n",
    "time_format = '%Y-%m-%d %H:%M'\n",
    "base_time = datetime(2021, 10, 15)\n",
    "new_data = []\n",
    "start_time_set = set()\n",
    "title_set = set()\n",
    "for report in reports:\n",
    "    title = report['title']\n",
    "    if title in title_set: \n",
    "        print(title)\n",
    "        continue\n",
    "    title_set.add(title)\n",
    "    date = report['date']\n",
    "    time = report['time']\n",
    "    hall = report['hall']\n",
    "    topic = report['topic']\n",
    "    topic = topic.split('|')[-1].split('：')[-1].strip()\n",
    "    date = date.split(' ')[0]\n",
    "    start, end = time.split('-')\n",
    "    start_time = date + ' ' + start # datetime.strptime(date + ' ' + start, time_format)\n",
    "    end_time = date + ' ' + end\n",
    "    s_time = datetime.strptime(start_time, time_format) - base_time\n",
    "    e_time = datetime.strptime(end_time, time_format) -  base_time\n",
    "    hall_id = hall_2_id[hall]\n",
    "    report['date'] = date\n",
    "    report['start_time'] = int(s_time.total_seconds())\n",
    "    report['end_time'] = int(e_time.total_seconds())\n",
    "    report['hall_id'] = hall_id\n",
    "    report['topic'] = topic\n",
    "    start_time_set.add(start_time)\n",
    "    new_data.append(report)\n",
    "json.dump(new_data, open('data/conference/standard_conference_data.json', 'w', encoding='utf-8'), ensure_ascii=False)\n",
    "print(new_data[0])\n",
    "print(len(title_set), len(reports))"
   ]
  },
  {
   "cell_type": "markdown",
   "metadata": {},
   "source": [
    "#### 按时间段分组"
   ]
  },
  {
   "cell_type": "code",
   "execution_count": 4,
   "metadata": {},
   "outputs": [
    {
     "name": "stdout",
     "output_type": "stream",
     "text": [
      "47\n"
     ]
    }
   ],
   "source": [
    "min_delta = 600\n",
    "time_spans = []\n",
    "sorted_data = sorted(new_data, key=lambda x: x['start_time']) # 按开始时间排序\n",
    "t = sorted_data[0]['start_time']\n",
    "group = 0\n",
    "group_dict = defaultdict(lambda: list())\n",
    "# group_dict[group] = []\n",
    "topic_2_report = defaultdict(lambda: list())\n",
    "id_2_report = dict()\n",
    "topic_2_report_id = defaultdict(lambda: list())\n",
    "for i, report in enumerate(sorted_data):\n",
    "    s_time = int(report['start_time'])\n",
    "    e_time = int(report['end_time'])\n",
    "    topic = report['topic']\n",
    "    delta = s_time - t\n",
    "\n",
    "    if delta > min_delta:\n",
    "        group += 1\n",
    "        t = s_time\n",
    "    group_dict[group].append(i)   \n",
    "    report['time_group'] = group\n",
    "    report['id'] = i\n",
    "    topic_2_report[topic].append((i, report['title']))\n",
    "    topic_2_report_id[topic].append(i)\n",
    "    id_2_report[i] = report['title']\n",
    "print(group)\n",
    "json.dump(sorted_data, open(f'data/conference/grouped_conference_data_{min_delta}.json', 'w', encoding='utf-8'), ensure_ascii=False)\n",
    "    "
   ]
  },
  {
   "cell_type": "code",
   "execution_count": 5,
   "metadata": {},
   "outputs": [
    {
     "data": {
      "text/plain": [
       "dict_keys(['特邀报告', '大会报告', '轨迹数据挖掘', '海洋大数据挖掘分析与应用', '地理时空建模', '青藏高原资源环境遥感与GIS', '地理空间认知', '地理空间智能分析与计算', '地理信息共享与互操作', '全空间信息系统原理与技术', '地理信息安全与共享', '空间数据组织与管理', 'GIS与行星遥感', '时间序列遥感动态监测', '三维GIS与虚拟地理环境', '青年学者分论坛一', '空间统计与时空推理', '地理大数据挖掘与时空模式发现', '时空模拟与预测', '室内构图与应用', '智慧城市与数字化改革', '大数据与地球信息科学', '青年学者分论坛三', '青年学者分论坛四', '青年学者分论坛五', '空间回归方法及大数据应用', '遥感数据处理与信息获取', '城市洪涝时空建模与模拟', '点云智能处理', '青年学者分论坛二', '时空大数据与粤港澳城市群协同发展', '传染病地理计算', '遥感智能应用', '人文、社会与GIS可持续发展', '地理知识图谱', '研究生论文竞赛（上半场）', '青年学者分论坛六', '青年学者分论坛八', '青年学者分论坛十', '人群动态观测（一）', '多模态遥感信息融合', '青年教师论文竞赛', '历史GIS（一）', '青年学者分论坛十二', '时空大数据与可持续发展', '全球综合观测与服务共享', '遥感变化检测与地图更新', '云计算与时空大数据', '地理信息多尺度表达', '研究生论文竞赛（下半场）', '青年学者分论坛七', '青年学者分论坛九', '青年学者分论坛十一', '人群动态观测（二）', '青年学者分论坛十四', '地图设计与创意', '历史GIS（二）', '青年学者分论坛十三'])"
      ]
     },
     "execution_count": 5,
     "metadata": {},
     "output_type": "execute_result"
    }
   ],
   "source": [
    "dict(topic_2_report_id).keys()"
   ]
  },
  {
   "cell_type": "markdown",
   "metadata": {},
   "source": [
    "最长组"
   ]
  },
  {
   "cell_type": "code",
   "execution_count": 6,
   "metadata": {},
   "outputs": [
    {
     "name": "stdout",
     "output_type": "stream",
     "text": [
      "23\n"
     ]
    }
   ],
   "source": [
    "group_max_len = max([len(g) for k, g in group_dict.items()])\n",
    "print(group_max_len)"
   ]
  },
  {
   "cell_type": "markdown",
   "metadata": {},
   "source": [
    "### 生成测试数据"
   ]
  },
  {
   "cell_type": "code",
   "execution_count": 7,
   "metadata": {},
   "outputs": [],
   "source": [
    "test_keywords = ['时空大数据', '人工智能', '粤港澳大湾区', '空间可达性', '光学遥感',  \n",
    "                    '轨迹数据挖掘', '时空模拟与预测', '地理时空建模', '遥感变化检测与地图更新', '地理信息共享与互操作'] # 五个抽取的关键词，五个专题名\n",
    "with open('data/text_match/predict.jl', 'w', encoding='utf-8') as writer:\n",
    "    for keyword in test_keywords:\n",
    "        for report in sorted_data:\n",
    "            writer.write(json.dumps({'title': report['title'], 'keywords': [keyword]}, ensure_ascii=False))\n",
    "            writer.write('\\n')"
   ]
  },
  {
   "cell_type": "code",
   "execution_count": 8,
   "metadata": {},
   "outputs": [],
   "source": [
    "test_topics = ['轨迹数据挖掘', '海洋大数据挖掘分析与应用', '地理时空建模', '青藏高原资源环境遥感与GIS', \n",
    "    '地理空间认知', '地理空间智能分析与计算', '地理信息共享与互操作', '全空间信息系统原理与技术', \n",
    "    '地理信息安全与共享', '空间数据组织与管理', 'GIS与行星遥感', '时间序列遥感动态监测', '三维GIS与虚拟地理环境', \n",
    "    '空间统计与时空推理', '地理大数据挖掘与时空模式发现', '时空模拟与预测', '室内构图与应用', '智慧城市与数字化改革', \n",
    "    '大数据与地球信息科学', '空间回归方法及大数据应用', '遥感数据处理与信息获取', '城市洪涝时空建模与模拟', '点云智能处理', \n",
    "    '时空大数据与粤港澳城市群协同发展', '传染病地理计算', '遥感智能应用', '人文、社会与GIS可持续发展', '地理知识图谱', \n",
    "    '多模态遥感信息融合', '时空大数据与可持续发展', '全球综合观测与服务共享', '遥感变化检测与地图更新', \n",
    "    '云计算与时空大数据', '地理信息多尺度表达'\n",
    "]\n",
    "topic_ids = [1, 3, 7, 16, 17, 21, 22, 24, 27, 28]\n",
    "with open('data/text_match/predict_topics.jl', 'w', encoding='utf-8') as writer:\n",
    "    for keyword in test_topics:\n",
    "        for report in sorted_data:\n",
    "            writer.write(json.dumps({'title': report['title'], 'keywords': [keyword]}, ensure_ascii=False))\n",
    "            writer.write('\\n')\n",
    "# ['轨迹数据挖掘', '时空模拟与预测', '地理时空建模', '遥感变化检测与地图更新', '地理信息共享与互操作']\n",
    "test_data = {test_topics[topic_id]: topic_2_report_id[test_topics[topic_id]] for topic_id in topic_ids}"
   ]
  },
  {
   "cell_type": "markdown",
   "metadata": {},
   "source": [
    "### 预测数据读取"
   ]
  },
  {
   "cell_type": "code",
   "execution_count": 9,
   "metadata": {},
   "outputs": [],
   "source": [
    "prob_matrix = np.zeros((len(sorted_data), len(test_topics)), dtype=float)\n",
    "with open('outputs/text_match/predictions/bert_bert_wwm_ext_2_prediction_text_matching.jl', 'r', encoding='utf-8') as f:\n",
    "    for i, line in enumerate(f):\n",
    "        d_json = json.loads(line.strip())\n",
    "        prob = float(d_json['prob'])\n",
    "        col = i // len(sorted_data)\n",
    "        row = i - col * len(sorted_data)\n",
    "        prob_matrix[row, col] = prob\n",
    "    assert i == len(sorted_data) * len(test_topics) - 1"
   ]
  },
  {
   "cell_type": "markdown",
   "metadata": {},
   "source": [
    "#### 查看与关键词最匹配的标题"
   ]
  },
  {
   "cell_type": "code",
   "execution_count": 10,
   "metadata": {},
   "outputs": [
    {
     "name": "stdout",
     "output_type": "stream",
     "text": [
      "1 海洋大数据挖掘分析与应用 召回率: 0.8571\n",
      "3 青藏高原资源环境遥感与GIS 召回率: 0.7143\n",
      "7 全空间信息系统原理与技术 召回率: 0.8333\n",
      "16 室内构图与应用 召回率: 0.8571\n",
      "17 智慧城市与数字化改革 召回率: 1.0000\n",
      "21 城市洪涝时空建模与模拟 召回率: 0.8750\n",
      "22 点云智能处理 召回率: 1.0000\n",
      "24 传染病地理计算 召回率: 0.6667\n",
      "27 地理知识图谱 召回率: 0.7143\n",
      "28 多模态遥感信息融合 召回率: 0.8571\n",
      "0.8375\n"
     ]
    }
   ],
   "source": [
    "# ith = 0\n",
    "# keyword = test_topics[ith]\n",
    "\n",
    "recalls = []\n",
    "bert_topic_recalls = dict()\n",
    "for ith in topic_ids:\n",
    "    keyword = test_topics[ith]\n",
    "    probs = prob_matrix[:, ith]\n",
    "    ranks = np.argsort(-probs) # 由于默认使用升序，所以使用负号\n",
    "    #print(keyword, ':')\n",
    "    gold_report_ids = topic_2_report_id[keyword]\n",
    "    count = 0\n",
    "    for i, r in enumerate(ranks[:20]): # 看前十个\n",
    "        report = sorted_data[r]\n",
    "        if r in gold_report_ids:\n",
    "            count += 1\n",
    "        # print(report['title'], probs[r])\n",
    "    recall = count / len(gold_report_ids)\n",
    "    bert_topic_recalls[keyword] = recall\n",
    "    #if recall >= 0.65:\n",
    "    print('{} {} 召回率: {:.4f}'.format(ith, keyword, recall))\n",
    "    recalls.append(recall)\n",
    "\n",
    "    # print('gold reports:')\n",
    "    # gold_reports = topic_2_report.get(keyword, [])\n",
    "    # for i, report in gold_reports:\n",
    "    #     print(report)\n",
    "print(sum(recalls) / len(recalls))\n"
   ]
  },
  {
   "cell_type": "markdown",
   "metadata": {},
   "source": [
    "## 概率转移矩阵中参数的确定"
   ]
  },
  {
   "cell_type": "markdown",
   "metadata": {},
   "source": [
    "### 空间距离因素"
   ]
  },
  {
   "cell_type": "code",
   "execution_count": 50,
   "metadata": {},
   "outputs": [
    {
     "name": "stdout",
     "output_type": "stream",
     "text": [
      "[[ 1. 10.  2. 10.  2. 10. 10. 10. 15. 15. 15. 15. 15.  2.  2.]\n",
      " [10.  1. 10.  3. 10.  3.  3.  3. 20. 20. 20. 20. 20. 10. 10.]\n",
      " [ 2. 10.  1. 10.  2. 10. 10. 10. 15. 15. 15. 15. 15.  2.  2.]\n",
      " [10.  3. 10.  1. 10.  3.  3.  3. 20. 20. 20. 20. 20. 10. 10.]\n",
      " [ 2. 10.  2. 10.  1. 10. 10. 10. 15. 15. 15. 15. 15.  2.  2.]\n",
      " [10.  3. 10.  3. 10.  1.  3.  3. 20. 20. 20. 20. 20. 10. 10.]\n",
      " [10.  3. 10.  3. 10.  3.  1.  3. 20. 20. 20. 20. 20. 10. 10.]\n",
      " [10.  3. 10.  3. 10.  3.  3.  1. 20. 20. 20. 20. 20. 10. 10.]\n",
      " [15. 20. 15. 20. 15. 20. 20. 20.  1.  3.  3.  3.  3. 15. 15.]\n",
      " [15. 20. 15. 20. 15. 20. 20. 20.  3.  1.  3.  3.  3. 15. 15.]\n",
      " [15. 20. 15. 20. 15. 20. 20. 20.  3.  3.  1.  3.  3. 15. 15.]\n",
      " [15. 20. 15. 20. 15. 20. 20. 20.  3.  3.  3.  1.  3. 15. 15.]\n",
      " [15. 20. 15. 20. 15. 20. 20. 20.  3.  3.  3.  3.  1. 15. 15.]\n",
      " [ 2. 10.  2. 10.  2. 10. 10. 10. 15. 15. 15. 15. 15.  1.  2.]\n",
      " [ 2. 10.  2. 10.  2. 10. 10. 10. 15. 15. 15. 15. 15.  2.  1.]]\n"
     ]
    }
   ],
   "source": [
    "area1 = {'分会场一', '分会场二', '分会场三', '分会场四', '黄龙水晶宫'}\n",
    "area2 = {'分会场五', '分会场六', '分会场七', '分会场八', '分会场九'}\n",
    "area3 = {'分会场十', '分会场十一', '分会场十二', '分会场十三', '分会场十四'}\n",
    "distance_dict = {\n",
    "    '11': 2, '22': 3, '33': 3,\n",
    "    '12': 10, '21': 10, '13': 15, '31':15,\n",
    "    '23': 20, '32': 20\n",
    "}\n",
    "distance_matrix = np.zeros((len(hall_2_id), len(hall_2_id)), dtype=float)\n",
    "hall_2_area = {h: 1 for h in area1}\n",
    "hall_2_area.update({h: 2 for h in area2})\n",
    "hall_2_area.update({h: 3 for h in area3})\n",
    "\n",
    "for i in range(len(hall_2_id)):\n",
    "    from_hall = id_2_hall[i]\n",
    "    from_area = hall_2_area[from_hall]\n",
    "    distance_matrix[i, i] = 1\n",
    "    for j in range(i):\n",
    "        to_hall = id_2_hall[j]\n",
    "        to_area = hall_2_area[to_hall]\n",
    "        dis = distance_dict[str(from_area)+str(to_area)]\n",
    "        distance_matrix[i, j] = distance_matrix[j, i] = dis\n",
    "print(distance_matrix)"
   ]
  },
  {
   "cell_type": "markdown",
   "metadata": {},
   "source": [
    "### 时间间隔因素"
   ]
  },
  {
   "cell_type": "code",
   "execution_count": null,
   "metadata": {},
   "outputs": [],
   "source": [
    "len(start_time_set)\n",
    "transfer_matrices = []\n",
    "for i in range(len(group_dict)-1):\n",
    "    transfer_mat = np.zeros((group_max_len, group_max_len), dtype=float)\n",
    "    from_group = group_dict[i]\n",
    "    to_group = group_dict[i+1]\n",
    "    for i, from_r in enumerate(from_group):\n",
    "        from_hall_id = sorted_data[from_r]['hall_id']\n",
    "        for j, to_r in enumerate(to_group):\n",
    "            to_hall_id = sorted_data[to_r]['hall_id']\n",
    "            distance = distance_matrix[from_hall_id, to_hall_id]\n",
    "            transfer_mat[i, j] = 1 / distance # 距离的倒数\n",
    "    transfer_matrices.append(transfer_mat)\n",
    "print(transfer_matrices[9])"
   ]
  },
  {
   "cell_type": "code",
   "execution_count": 56,
   "metadata": {},
   "outputs": [
    {
     "data": {
      "text/plain": [
       "47"
      ]
     },
     "execution_count": 56,
     "metadata": {},
     "output_type": "execute_result"
    }
   ],
   "source": [
    "len(transfer_matrices)"
   ]
  },
  {
   "cell_type": "markdown",
   "metadata": {},
   "source": [
    "### 条件随机场"
   ]
  },
  {
   "cell_type": "code",
   "execution_count": 4,
   "metadata": {},
   "outputs": [],
   "source": [
    "from typing import Tuple, List\n",
    "def step(mu_prev: np.ndarray,\n",
    "         emission_probs: np.ndarray,\n",
    "         transition_probs: np.ndarray,\n",
    "         observed_state: int) -> Tuple[np.ndarray, np.ndarray]:\n",
    "    \"\"\"Runs one step of the Viterbi algorithm.\n",
    "    \n",
    "    Args:\n",
    "        mu_prev: probability distribution with shape (num_hidden),\n",
    "            the previous mu\n",
    "        emission_probs: the emission probability matrix (num_hidden,\n",
    "            num_observed)\n",
    "        transition_probs: the transition probability matrix, with\n",
    "            shape (num_hidden, num_hidden)\n",
    "        observed_state: the observed state at the current step\n",
    "    \n",
    "    Returns:\n",
    "        - the mu for the next step\n",
    "        - the maximizing previous state, before the current state,\n",
    "          as an int array with shape (num_hidden)\n",
    "    \"\"\"\n",
    "    \n",
    "    pre_max = mu_prev * transition_probs.T\n",
    "    max_prev_states = np.argmax(pre_max, axis=1)\n",
    "    max_vals = pre_max[np.arange(len(max_prev_states)), max_prev_states]\n",
    "    mu_new = max_vals * emission_probs[:, observed_state]\n",
    "    \n",
    "    return mu_new, max_prev_states\n",
    "\n",
    "\n",
    "def viterbi(emission_probs: np.ndarray,\n",
    "            transition_probs: np.ndarray) -> Tuple[List[int], float]:\n",
    "    \"\"\"Runs the Viterbi algorithm to get the most likely state sequence.\n",
    "    \n",
    "    Args:\n",
    "        emission_probs: the emission probability matrix (num_hidden,\n",
    "            steps)\n",
    "        transition_probs: the transition probability matrix, with\n",
    "            shape (steps-1, num_hidden, num_hidden)\n",
    "    \n",
    "    Returns:\n",
    "        - the most likely series of states\n",
    "        - the joint probability of that series of states and the observed\n",
    "    \"\"\"\n",
    "    \n",
    "    # Runs the forward pass, storing the most likely previous state.\n",
    "    assert emission_probs.shape[-1] - 1 == transition_probs.shape[0]\n",
    "    mu = emission_probs[:, 0]\n",
    "    all_prev_states = []\n",
    "    for t in range(1, emission_probs.shape[-1]):\n",
    "        mu, prevs = step(mu, emission_probs, transition_probs[t-1], t)\n",
    "        all_prev_states.append(prevs)\n",
    "    \n",
    "    # Traces backwards to get the maximum likelihood sequence.\n",
    "    state = np.argmax(mu)\n",
    "    sequence_prob = mu[state]\n",
    "    state_sequence = [state]\n",
    "    for prev_states in all_prev_states[::-1]:\n",
    "        state = prev_states[state]\n",
    "        state_sequence.append(state)\n",
    "    \n",
    "    return state_sequence[::-1], sequence_prob"
   ]
  },
  {
   "cell_type": "code",
   "execution_count": 75,
   "metadata": {},
   "outputs": [
    {
     "name": "stdout",
     "output_type": "stream",
     "text": [
      "[0, 0, 0, 0, 0, 0, 0, 9, 10, 4, 1, 3, 9, 3, 6, 5, 2, 8, 8, 7, 3, 12, 4, 6, 6, 0, 19, 0, 0, 0, 4, 0, 11, 7, 9, 11, 14, 6, 4, 12, 1, 4, 0, 0, 0, 0, 0, 0] 1.6875989651340056e-11\n"
     ]
    }
   ],
   "source": [
    "kw_i = 6 # 第几个 test_keywords\n",
    "steps = len(group_dict)\n",
    "num_hidden = group_max_len\n",
    "transition_probs = np.array(transfer_matrices, dtype=float) # np.random.rand(steps-1, num_hidden, num_hidden)\n",
    "emission_probs = np.full((num_hidden, steps), -1000, dtype=float) # (num_hidden, steps)\n",
    "probs = prob_matrix[:, kw_i]\n",
    "for g_id in range(len(group_dict)):\n",
    "    group = group_dict[g_id]\n",
    "    for ind, report_id in enumerate(group):\n",
    "        emission_probs[ind, g_id] = probs[report_id]\n",
    "\n",
    "seq, prob = viterbi(emission_probs, transition_probs)\n",
    "print(seq, prob)"
   ]
  },
  {
   "cell_type": "markdown",
   "metadata": {},
   "source": [
    "#### 展示推荐序列"
   ]
  },
  {
   "cell_type": "code",
   "execution_count": 76,
   "metadata": {},
   "outputs": [
    {
     "name": "stdout",
     "output_type": "stream",
     "text": [
      "时空模拟与预测 :\n",
      "7 2021-10-16 13:30-13:50 多粒度时空对象建模理论研究 3.290858507156372\n",
      "8 2021-10-16 13:50-14:10 历史-现势一体的时空大数据管理 3.0428085327148438\n",
      "9 2021-10-16 14:00-14:15 基于轨迹数据的城市内涝交通暴露性时空模拟 7.124446868896484\n",
      "10 2021-10-16 14:15-14:30 基于眼动数据的人类空间导航行为模式识别与预测 3.5094242095947266\n",
      "18 2021-10-16 16:30-16:50 时空信息预测：从线性假设到不变性假设 15.986931800842285\n",
      "20 2021-10-16 16:50-17:05 两种时空模拟方法—贝叶斯最大熵和集成嵌套拉普拉斯—在江苏省土壤有机质制图中的应用 7.694623947143555\n",
      "23 2021-10-16 17:35-17:50 城市洪涝灾害脆弱性的综合量化模型与时空模拟 10.590811729431152\n",
      "26 2021-10-17 8:10-8:20 登革热时空预报模型 3.7622668743133545\n",
      "30 2021-10-17 9:00-9:15 面向粤港澳大湾区的时空数据分析与综合模拟 3.81354022026062\n",
      "31 2021-10-17 9:10-9:20 武汉新冠肺炎治愈患者时空行为分析 3.1768651008605957\n",
      "38 2021-10-17 11:06-11:14 基于出租车轨迹数据的居民区房价分析与预测 4.899379253387451\n",
      "39 2021-10-17 11:30-11:38 基于轨迹数据的城市交通信息转向级挖掘与预测 4.563422203063965\n"
     ]
    }
   ],
   "source": [
    "print(test_keywords[kw_i], ':')\n",
    "for i_group, ind in enumerate(seq):\n",
    "    report_id = group_dict[i_group][ind]\n",
    "    selected_report = sorted_data[report_id]\n",
    "    title = selected_report['title']\n",
    "    date, time = selected_report['date'], selected_report['time']\n",
    "    emi_prob = prob_matrix[report_id, kw_i]\n",
    "    if emi_prob > 3:\n",
    "        print(i_group, date+' '+time , title, emi_prob)"
   ]
  },
  {
   "cell_type": "markdown",
   "metadata": {},
   "source": [
    "## 基于字符串的文本相似度计算"
   ]
  },
  {
   "cell_type": "markdown",
   "metadata": {},
   "source": [
    "- The Dice similarity score is defined as twice the shared information (intersection) divided by sum of cardinalities. For two sets X and Y, the Dice similarity score is:\n",
    "$$\n",
    "dice(X, Y) = \\frac{2 * |X \\cap Y|}{|X| + |Y|}\n",
    "$$\n",
    "\n",
    "- The overlap coefficient is a similarity measure related to the Jaccard measure that measures the overlap between two sets, and is defined as the size of the intersection divided by the smaller of the size of the two sets. For two sets X and Y, the overlap coefficient is:\n",
    "$$\n",
    "overlap\\_coefficient(X, Y) = \\frac{|X \\cap Y|}{\\min(|X|, |Y|)}\n",
    "$$\n",
    "\n",
    "Note, however, that certain measures such as affine gap, Monge-Elkan, Needleman-Wunsch, Smith-Waterman and Soft TF/IDF do not have a get_sim_score method, because there is no straightforward way to normalize the raw scores of these measures into similarity scores in [0,1]"
   ]
  },
  {
   "cell_type": "code",
   "execution_count": 24,
   "metadata": {},
   "outputs": [],
   "source": [
    "import py_stringmatching.similarity_measure as SM"
   ]
  },
  {
   "cell_type": "code",
   "execution_count": null,
   "metadata": {},
   "outputs": [],
   "source": [
    "\n",
    "sim_model = {\n",
    "    'Levenshtein': SM.levenshtein.Levenshtein(),\n",
    "    'Jaro-Winkler': SM.jaro_winkler.JaroWinkler(),\n",
    "    'Jaccard': SM.jaccard.Jaccard(),\n",
    "    'Dice': SM.dice.Dice(),\n",
    "    'OverlapCoefficient': SM.overlap_coefficient.OverlapCoefficient()\n",
    "    \n",
    "}\n",
    "k_model_recalls = defaultdict(dict)\n",
    "model_k_recalls = defaultdict(dict)\n",
    "k_range = list(range(5, 35, 5))\n",
    "for k in k_range:\n",
    "    print(k)\n",
    "    for i, (m_name, model) in enumerate(sim_model.items()):\n",
    "        recalls = []\n",
    "        for topic, report_ids in test_data.items():\n",
    "            pairs = []\n",
    "            for tid, title in id_2_report.items():\n",
    "                if i < 2:\n",
    "                    score = model.get_sim_score(topic, title)\n",
    "                else:\n",
    "                    score = model.get_sim_score(list(topic), list(title))\n",
    "                pairs.append({'index': tid, 'score': score})\n",
    "                #\n",
    "            pairs = sorted(pairs, key=lambda x: x['score'], reverse=True)\n",
    "            count = 0\n",
    "            for pair in pairs[:k]:\n",
    "                if pair['index'] in report_ids:\n",
    "                    count += 1\n",
    "                # print('{} \\t {} \\t Score: {:.4f}'.format(topic, id_2_report[pair['index']], pair['score']))\n",
    "            recall = count / len(report_ids)\n",
    "            # print('{} 召回率: {:.4f}'.format(topic, recall))\n",
    "            recalls.append(recall)\n",
    "\n",
    "        print(m_name, sum(recalls) / len(recalls))\n",
    "        model_k_recalls[m_name][k] = sum(recalls) / len(recalls)\n",
    "        k_model_recalls[k][m_name] = sum(recalls) / len(recalls)\n",
    "k_model_recalls = dict(k_model_recalls)\n",
    "model_k_recalls = dict(model_k_recalls)"
   ]
  },
  {
   "cell_type": "markdown",
   "metadata": {},
   "source": [
    "### 字符串相似度计算方法在取不同 k 值时的召回率"
   ]
  },
  {
   "cell_type": "code",
   "execution_count": 53,
   "metadata": {},
   "outputs": [
    {
     "name": "stderr",
     "output_type": "stream",
     "text": [
      "C:\\Users\\kobe\\.conda\\envs\\forltp\\lib\\site-packages\\ipykernel_launcher.py:37: UserWarning: FixedFormatter should only be used together with FixedLocator\n"
     ]
    },
    {
     "data": {
      "image/png": "[encoded data removed]",
      "text/plain": [
       "<Figure size 576x432 with 1 Axes>"
      ]
     },
     "metadata": {
      "needs_background": "light"
     },
     "output_type": "display_data"
    }
   ],
   "source": [
    "\n",
    "import numpy as np\n",
    "import pandas as pd\n",
    "import matplotlib.pyplot as plt\n",
    "\n",
    "MEDIUM_SIZE = 12\n",
    "BIGGER_SIZE = 12\n",
    "LARGE_SIZE = 16\n",
    "\n",
    "plt.rc('font', size=MEDIUM_SIZE)          # controls default text sizes\n",
    "plt.rc('axes', titlesize=BIGGER_SIZE)     # fontsize of the axes title\n",
    "plt.rc('axes', labelsize=LARGE_SIZE)    # fontsize of the x and y labels\n",
    "plt.rc('xtick', labelsize=MEDIUM_SIZE)    # fontsize of the tick labels\n",
    "plt.rc('ytick', labelsize=BIGGER_SIZE)    # fontsize of the tick labels\n",
    "plt.rc('legend', fontsize=BIGGER_SIZE)    # legend fontsize\n",
    "plt.rc('figure', titlesize=BIGGER_SIZE)  # fontsize of the figure title\n",
    "\n",
    "plt.rcParams['axes.unicode_minus'] = False\n",
    "\n",
    "stat_frame = pd.DataFrame(model_k_recalls).round(4)\n",
    "\n",
    "fig, ax3 = plt.subplots(figsize=(8, 6))\n",
    "\n",
    "ax3.set_xlabel('k')\n",
    "ax3.set_xticklabels([0, 5, 10, 15, 20, 25, 30])\n",
    "ax3.set_ylabel('Recall')\n",
    "\n",
    "fmts = ['k*-', 'k+-', 'ko--', 'ks--', 'k^-.']\n",
    "for i, (model_name, _) in enumerate(model_k_recalls.items()):\n",
    "    y_data = stat_frame[model_name].tolist()\n",
    "    ax3.plot(y_data, fmts[i], label=model_name, linewidth=2, markersize=12)\n",
    "\n",
    "ax3.legend()\n",
    "\n",
    "fig.tight_layout() # otherwise the right y-label is slightly clipped\n",
    "plt.savefig('outputs/text_match/figs/string_match_recalls.pdf', format='pdf')\n",
    "plt.show()"
   ]
  },
  {
   "cell_type": "markdown",
   "metadata": {},
   "source": [
    "### OverlapCoefficient 在各个 topic 上的召回"
   ]
  },
  {
   "cell_type": "code",
   "execution_count": null,
   "metadata": {},
   "outputs": [],
   "source": [
    "model = SM.overlap_coefficient.OverlapCoefficient()\n",
    "\n",
    "k_range = list(range(10, 35, 5))\n",
    "k_recalls = dict()\n",
    "for k in k_range:\n",
    "    recalls = []\n",
    "    for topic, report_ids in test_data.items():\n",
    "        pairs = []\n",
    "        for tid, title in id_2_report.items():\n",
    "            \n",
    "            score = model.get_sim_score(list(topic), list(title))\n",
    "            \n",
    "            pairs.append({'index': tid, 'score': score})\n",
    "            #\n",
    "        pairs = sorted(pairs, key=lambda x: x['score'], reverse=True)\n",
    "        count = 0\n",
    "        for pair in pairs[:k]:\n",
    "            if pair['index'] in report_ids:\n",
    "                count += 1\n",
    "            # print('{} \\t {} \\t Score: {:.4f}'.format(topic, id_2_report[pair['index']], pair['score']))\n",
    "        recall = count / len(report_ids)\n",
    "        # print('{} 召回率: {:.4f}'.format(topic, recall))\n",
    "        recalls.append(recall)\n",
    "\n",
    "    # print(m_name, sum(recalls) / len(recalls))\n",
    "    k_recalls[k] = recalls\n",
    "    \n",
    "print(k_recalls)"
   ]
  },
  {
   "cell_type": "code",
   "execution_count": 61,
   "metadata": {},
   "outputs": [
    {
     "data": {
      "image/png": "[encoded data removed]",
      "text/plain": [
       "<Figure size 720x576 with 1 Axes>"
      ]
     },
     "metadata": {
      "needs_background": "light"
     },
     "output_type": "display_data"
    }
   ],
   "source": [
    "topics = [test_topics[ith] for ith in topic_ids]\n",
    "topics, recalls\n",
    "import numpy as np\n",
    "import pandas as pd\n",
    "import matplotlib.pyplot as plt\n",
    "\n",
    "MEDIUM_SIZE = 12\n",
    "BIGGER_SIZE = 12\n",
    "LARGE_SIZE = 16\n",
    "\n",
    "plt.rc('font', size=MEDIUM_SIZE)          # controls default text sizes\n",
    "plt.rc('axes', titlesize=BIGGER_SIZE)     # fontsize of the axes title\n",
    "plt.rc('axes', labelsize=LARGE_SIZE)    # fontsize of the x and y labels\n",
    "plt.rc('xtick', labelsize=MEDIUM_SIZE)    # fontsize of the tick labels\n",
    "plt.rc('ytick', labelsize=BIGGER_SIZE)    # fontsize of the tick labels\n",
    "plt.rc('legend', fontsize=BIGGER_SIZE)    # legend fontsize\n",
    "plt.rc('figure', titlesize=BIGGER_SIZE)  # fontsize of the figure title\n",
    "\n",
    "# stat_dict = {\n",
    "#     'BERT': [0.8571428571428571, 0.7142857142857143, 0.8333333333333334, 0.8571428571428571, 1.0, 0.875, 1.0, 0.6666666666666666, 0.7142857142857143, 0.8571428571428571]\n",
    "# }\n",
    "\n",
    "x_labels = topics #[str(i) for i in range(1, len(topic))]\n",
    "x = np.arange(1, len(x_labels)+1)\n",
    "width = 0.15\n",
    "\n",
    "plt.rcParams['axes.unicode_minus'] = False\n",
    "plt.rcParams[\"font.sans-serif\"]=[\"SimHei\"] #设置字体\n",
    "\n",
    "fig, ax1 = plt.subplots(figsize=(10, 8))\n",
    "\n",
    "rects0 = ax1.bar(x-2*width, k_recalls[10], width, label='k=10')\n",
    "rects1 = ax1.bar(x-1*width, k_recalls[15], width, label='k=15')\n",
    "rects2 = ax1.bar(x-0*width, k_recalls[20], width, label='k=20')\n",
    "rects3 = ax1.bar(x+1*width, k_recalls[25], width, label='k=25')\n",
    "rects4 = ax1.bar(x+2*width, k_recalls[30], width, label='k=30')\n",
    "\n",
    "ax1.set_xlabel('Topic')\n",
    "ax1.set_xticks(np.arange(1, len(topics)+1))\n",
    "ax1.set_xticklabels(x_labels, rotation=290)\n",
    "# ax1.set_xticks(x, x_labels)\n",
    "\n",
    "ax1.set_ylabel('Recall')\n",
    "ax1.legend()\n",
    "\n",
    "\n",
    "fig.tight_layout() # otherwise the right y-label is slightly clipped\n",
    "plt.savefig('outputs/text_match/figs/string_match_topic_recalls.pdf', format='pdf')\n",
    "plt.show()"
   ]
  },
  {
   "cell_type": "markdown",
   "metadata": {},
   "source": [
    "## 基于词向量的文本相似度计算"
   ]
  },
  {
   "cell_type": "code",
   "execution_count": 35,
   "metadata": {},
   "outputs": [
    {
     "name": "stderr",
     "output_type": "stream",
     "text": [
      "2022-02-11 15:54:32.775 | DEBUG    | text2vec.word2vec:__init__:81 - Load w2v from w2v-light-tencent-chinese, spend 1.19 sec\n",
      "2022-02-11 15:54:32.777 | DEBUG    | text2vec.word2vec:__init__:85 - Word count: 143613, emb size: 200\n",
      "2022-02-11 15:54:32.778 | DEBUG    | text2vec.word2vec:__init__:86 - Set stopwords: ['--', '?', 'ZT', 'ZZ', \"a's\", 'able', 'about', 'above', 'according', 'accordingly'], count: 1396\n"
     ]
    },
    {
     "name": "stdout",
     "output_type": "stream",
     "text": [
      "海洋大数据挖掘分析与应用 召回率: 0.1429\n",
      "青藏高原资源环境遥感与GIS 召回率: 0.0000\n",
      "全空间信息系统原理与技术 召回率: 0.0000\n",
      "室内构图与应用 召回率: 0.0000\n",
      "智慧城市与数字化改革 召回率: 0.0000\n",
      "城市洪涝时空建模与模拟 召回率: 0.0000\n",
      "点云智能处理 召回率: 0.1250\n",
      "传染病地理计算 召回率: 0.0000\n",
      "地理知识图谱 召回率: 0.0000\n",
      "多模态遥感信息融合 召回率: 0.1429\n",
      "0.04107142857142857\n"
     ]
    }
   ],
   "source": [
    "from text2vec import Similarity\n",
    "title_list = list(title_set)\n",
    "# embedding_type: ['w2v', 'sbert']\n",
    "# similarity_type: ['cosine', 'wmd']\n",
    "sim_model = Similarity(similarity_type='wmd', embedding_type='w2v')\n",
    "\n",
    "# for i, keyword in enumerate(test_keywords):\n",
    "#     pairs = []\n",
    "#     for j, title in enumerate(title_list):\n",
    "#         score = sim_model.get_score(keyword, title)\n",
    "#         pairs.append({'index': j, 'score': score})\n",
    "#         #\n",
    "#     pairs = sorted(pairs, key=lambda x: x['score'], reverse=True)\n",
    "#     for pair in pairs[:20]:\n",
    "#         print('{} \\t {} \\t Score: {:.4f}'.format(keyword, title_list[pair['index']], pair['score']))\n",
    "recalls = []\n",
    "for topic, report_ids in test_data.items():\n",
    "    pairs = []\n",
    "    for tid, title in id_2_report.items():\n",
    "        score = sim_model.get_score(keyword, title)\n",
    "        pairs.append({'index': tid, 'score': score})\n",
    "        #\n",
    "    pairs = sorted(pairs, key=lambda x: x['score'], reverse=True)\n",
    "    count = 0\n",
    "    for pair in pairs[:20]:\n",
    "        if pair['index'] in report_ids:\n",
    "            count += 1\n",
    "    recall = count / len(report_ids)\n",
    "        # print('{} \\t {} \\t Score: {:.4f}'.format(topic, id_2_report[pair['index']], pair['score']))\n",
    "    print('{} 召回率: {:.4f}'.format(topic, recall))\n",
    "    recalls.append(recall)\n",
    "print(sum(recalls) / len(recalls))"
   ]
  }
 ],
 "metadata": {
  "interpreter": {
   "hash": "3725f9b6c50a9b1fb43ec92b9baad151c68ab0d5bd398e882ebcf6dd7767f72c"
  },
  "kernelspec": {
   "display_name": "Python 3.6.7 64-bit ('forltp': conda)",
   "language": "python",
   "name": "python3"
  },
  "language_info": {
   "codemirror_mode": {
    "name": "ipython",
    "version": 3
   },
   "file_extension": ".py",
   "mimetype": "text/x-python",
   "name": "python",
   "nbconvert_exporter": "python",
   "pygments_lexer": "ipython3",
   "version": "3.6.7"
  },
  "orig_nbformat": 4
 },
 "nbformat": 4,
 "nbformat_minor": 2
}
