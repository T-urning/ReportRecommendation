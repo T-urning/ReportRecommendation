{
 "cells": [
  {
   "cell_type": "code",
   "execution_count": null,
   "metadata": {},
   "outputs": [],
   "source": [
    "import json\n",
    "\n",
    "data = json.load(open('conference.json', encoding='utf-8', mode='r'))\n",
    "titles = []\n",
    "for report in data:\n",
    "    title = report['title']\n",
    "    institutions = report['institutions']\n",
    "    if title and institutions:\n",
    "        titles.append(title)\n",
    "len(titles)\n",
    "\n",
    "with open('report_titles.jl', 'w', encoding='utf-8') as writer:\n",
    "    for title in titles:\n",
    "        writer.write(json.dumps({'title': title}, ensure_ascii=False))\n",
    "        writer.write('\\n')"
   ]
  }
 ],
 "metadata": {
  "language_info": {
   "name": "python"
  },
  "orig_nbformat": 4
 },
 "nbformat": 4,
 "nbformat_minor": 2
}
